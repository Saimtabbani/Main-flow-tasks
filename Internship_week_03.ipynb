{
  "nbformat": 4,
  "nbformat_minor": 0,
  "metadata": {
    "colab": {
      "provenance": [],
      "authorship_tag": "ABX9TyPhrLBE61ruCpT0PYTvc/Rf",
      "include_colab_link": true
    },
    "kernelspec": {
      "name": "python3",
      "display_name": "Python 3"
    },
    "language_info": {
      "name": "python"
    }
  },
  "cells": [
    {
      "cell_type": "markdown",
      "metadata": {
        "id": "view-in-github",
        "colab_type": "text"
      },
      "source": [
        "<a href=\"https://colab.research.google.com/github/Saimtabbani/Main-flow-tasks/blob/main/Internship_week_03.ipynb\" target=\"_parent\"><img src=\"https://colab.research.google.com/assets/colab-badge.svg\" alt=\"Open In Colab\"/></a>"
      ]
    },
    {
      "cell_type": "code",
      "execution_count": 1,
      "metadata": {
        "colab": {
          "base_uri": "https://localhost:8080/"
        },
        "id": "GgdZlACT12WI",
        "outputId": "50fac02a-1fb6-4c99-ae76-e1ddf935863e"
      },
      "outputs": [
        {
          "output_type": "stream",
          "name": "stdout",
          "text": [
            "5 x 1 = 5\n",
            "5 x 2 = 10\n",
            "5 x 3 = 15\n",
            "5 x 4 = 20\n",
            "5 x 5 = 25\n",
            "5 x 6 = 30\n",
            "5 x 7 = 35\n",
            "5 x 8 = 40\n",
            "5 x 9 = 45\n",
            "5 x 10 = 50\n"
          ]
        }
      ],
      "source": [
        "# Task 17 table of number\n",
        "n = 5  # Example number\n",
        "for i in range(1, 11):\n",
        "    print(n, \"x\", i, \"=\", n * i)"
      ]
    },
    {
      "cell_type": "code",
      "source": [
        "# Task 18: Swap Two Numbers without a Third Variable\n",
        "a = 10\n",
        "b = 20\n",
        "a, b = b, a\n",
        "print(\"Swapped values:\", a, b)\n"
      ],
      "metadata": {
        "colab": {
          "base_uri": "https://localhost:8080/"
        },
        "id": "2e7wTKLs2DDw",
        "outputId": "8c55565e-1dd3-49ce-b0c9-0ca22cb2b2d8"
      },
      "execution_count": 2,
      "outputs": [
        {
          "output_type": "stream",
          "name": "stdout",
          "text": [
            "Swapped values: 20 10\n"
          ]
        }
      ]
    },
    {
      "cell_type": "code",
      "source": [
        "# Task 19: Check Substring\n",
        "s1 = \"hello world\"\n",
        "s2 = \"world\"\n",
        "print(s2 in s1)\n"
      ],
      "metadata": {
        "colab": {
          "base_uri": "https://localhost:8080/"
        },
        "id": "R7HKgjOu2FT9",
        "outputId": "aa9d8cbb-d428-4b1f-f8bc-4d4bc5f2c31b"
      },
      "execution_count": 3,
      "outputs": [
        {
          "output_type": "stream",
          "name": "stdout",
          "text": [
            "True\n"
          ]
        }
      ]
    },
    {
      "cell_type": "code",
      "source": [
        "# Task 20: Decimal to Binary\n",
        "n = 25  # Example decimal number\n",
        "binary = bin(n)[2:]\n",
        "print(\"Binary:\", binary)"
      ],
      "metadata": {
        "colab": {
          "base_uri": "https://localhost:8080/"
        },
        "id": "zcF7sKFk2HyU",
        "outputId": "37dcca5c-1b6d-454b-b593-fc0d1ac4189b"
      },
      "execution_count": 4,
      "outputs": [
        {
          "output_type": "stream",
          "name": "stdout",
          "text": [
            "Binary: 11001\n"
          ]
        }
      ]
    },
    {
      "cell_type": "code",
      "source": [
        "# Task 21: Matrix Addition\n",
        "A = [[1, 2, 3], [4, 5, 6]]\n",
        "B = [[7, 8, 9], [10, 11, 12]]\n",
        "result = [[A[i][j] + B[i][j] for j in range(len(A[0]))] for i in range(len(A))]\n",
        "print(\"Matrix Addition:\", result)\n"
      ],
      "metadata": {
        "colab": {
          "base_uri": "https://localhost:8080/"
        },
        "id": "zNXfXT8J2KLA",
        "outputId": "9200ee49-76f3-4dfa-d924-3329ca1f7e89"
      },
      "execution_count": 5,
      "outputs": [
        {
          "output_type": "stream",
          "name": "stdout",
          "text": [
            "Matrix Addition: [[8, 10, 12], [14, 16, 18]]\n"
          ]
        }
      ]
    },
    {
      "cell_type": "code",
      "source": [
        "# Task 22: Matrix Multiplication\n",
        "A = [[1, 2], [3, 4]]\n",
        "B = [[5, 6], [7, 8]]\n",
        "result = [[sum(A[i][k] * B[k][j] for k in range(len(B))) for j in range(len(B[0]))] for i in range(len(A))]\n",
        "print(\"Matrix Multiplication:\", result)"
      ],
      "metadata": {
        "colab": {
          "base_uri": "https://localhost:8080/"
        },
        "id": "36jn71-U2PNq",
        "outputId": "b769305b-a415-448b-8ef5-eddf98357766"
      },
      "execution_count": 6,
      "outputs": [
        {
          "output_type": "stream",
          "name": "stdout",
          "text": [
            "Matrix Multiplication: [[19, 22], [43, 50]]\n"
          ]
        }
      ]
    },
    {
      "cell_type": "code",
      "source": [
        "# Task 23: Find Second Largest\n",
        "lst = [10, 20, 4, 45, 99]\n",
        "sorted_list = sorted(set(lst), reverse=True)\n",
        "second_largest = sorted_list[1] if len(sorted_list) > 1 else None\n",
        "print(\"Second Largest:\", second_largest)\n"
      ],
      "metadata": {
        "colab": {
          "base_uri": "https://localhost:8080/"
        },
        "id": "lUza7R3g2RNo",
        "outputId": "7f67756d-c8ca-407c-d578-5cd80fb276b8"
      },
      "execution_count": 7,
      "outputs": [
        {
          "output_type": "stream",
          "name": "stdout",
          "text": [
            "Second Largest: 45\n"
          ]
        }
      ]
    },
    {
      "cell_type": "code",
      "source": [
        "# Task 24: Check Anagram\n",
        "str1 = \"listen\"\n",
        "str2 = \"silent\"\n",
        "print(sorted(str1) == sorted(str2))\n"
      ],
      "metadata": {
        "colab": {
          "base_uri": "https://localhost:8080/"
        },
        "id": "rs7nO3qP2TQ9",
        "outputId": "0baf8c2f-e095-4285-9fd0-3abcb40e195d"
      },
      "execution_count": 8,
      "outputs": [
        {
          "output_type": "stream",
          "name": "stdout",
          "text": [
            "True\n"
          ]
        }
      ]
    },
    {
      "cell_type": "code",
      "source": [
        "# Task 3: AI-Based Tic-Tac-Toe (Basic Minimax Implementation)\n",
        "import random\n",
        "\n",
        "board = [' ' for _ in range(9)]  # 3x3 board\n",
        "player = 'X'\n",
        "ai = 'O'\n",
        "\n",
        "def print_board():\n",
        "    for i in range(0, 9, 3):\n",
        "        print(board[i], '|', board[i+1], '|', board[i+2])\n",
        "\n",
        "def check_winner(b, marker):\n",
        "    return (b[0] == b[1] == b[2] == marker or b[3] == b[4] == b[5] == marker or\n",
        "            b[6] == b[7] == b[8] == marker or b[0] == b[3] == b[6] == marker or\n",
        "            b[1] == b[4] == b[7] == marker or b[2] == b[5] == b[8] == marker or\n",
        "            b[0] == b[4] == b[8] == marker or b[2] == b[4] == b[6] == marker)\n",
        "\n",
        "def minimax(b, depth, is_maximizing):\n",
        "    if check_winner(b, ai):\n",
        "        return 1\n",
        "    if check_winner(b, player):\n",
        "        return -1\n",
        "    if ' ' not in b:\n",
        "        return 0\n",
        "\n",
        "    if is_maximizing:\n",
        "        best_score = -float('inf')\n",
        "        for i in range(9):\n",
        "            if b[i] == ' ':\n",
        "                b[i] = ai\n",
        "                score = minimax(b, depth + 1, False)\n",
        "                b[i] = ' '\n",
        "                best_score = max(score, best_score)\n",
        "        return best_score\n",
        "    else:\n",
        "        best_score = float('inf')\n",
        "        for i in range(9):\n",
        "            if b[i] == ' ':\n",
        "                b[i] = player\n",
        "                score = minimax(b, depth + 1, True)\n",
        "                b[i] = ' '\n",
        "                best_score = min(score, best_score)\n",
        "        return best_score\n",
        "\n",
        "def best_move():\n",
        "    best_score = -float('inf')\n",
        "    move = 0\n",
        "    for i in range(9):\n",
        "        if board[i] == ' ':\n",
        "            board[i] = ai\n",
        "            score = minimax(board, 0, False)\n",
        "            board[i] = ' '\n",
        "            if score > best_score:\n",
        "                best_score = score\n",
        "                move = i\n",
        "    board[move] = ai\n",
        "\n",
        "\n",
        "for _ in range(5):\n",
        "    best_move()\n",
        "    print_board()\n",
        "    if check_winner(board, ai):\n",
        "        print(\"AI Wins!\")\n",
        "        break\n",
        "    if ' ' not in board:\n",
        "        print(\"It's a Draw!\")\n",
        "        break"
      ],
      "metadata": {
        "colab": {
          "base_uri": "https://localhost:8080/"
        },
        "id": "6io02vyD2VMY",
        "outputId": "ada8bb50-0927-4a7c-bdbe-425c34e21a7b"
      },
      "execution_count": 9,
      "outputs": [
        {
          "output_type": "stream",
          "name": "stdout",
          "text": [
            "O |   |  \n",
            "  |   |  \n",
            "  |   |  \n",
            "O | O |  \n",
            "  |   |  \n",
            "  |   |  \n",
            "O | O | O\n",
            "  |   |  \n",
            "  |   |  \n",
            "AI Wins!\n"
          ]
        }
      ]
    },
    {
      "cell_type": "code",
      "source": [],
      "metadata": {
        "id": "9kw18xIx2XS0"
      },
      "execution_count": null,
      "outputs": []
    }
  ]
}