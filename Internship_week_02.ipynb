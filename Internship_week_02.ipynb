{
  "nbformat": 4,
  "nbformat_minor": 0,
  "metadata": {
    "colab": {
      "provenance": [],
      "authorship_tag": "ABX9TyP4RJxq1eeA3LhWXt31EQZ3",
      "include_colab_link": true
    },
    "kernelspec": {
      "name": "python3",
      "display_name": "Python 3"
    },
    "language_info": {
      "name": "python"
    }
  },
  "cells": [
    {
      "cell_type": "markdown",
      "metadata": {
        "id": "view-in-github",
        "colab_type": "text"
      },
      "source": [
        "<a href=\"https://colab.research.google.com/github/Saimtabbani/Main-flow-tasks/blob/main/Internship_week_02.ipynb\" target=\"_parent\"><img src=\"https://colab.research.google.com/assets/colab-badge.svg\" alt=\"Open In Colab\"/></a>"
      ]
    },
    {
      "cell_type": "code",
      "execution_count": 1,
      "metadata": {
        "colab": {
          "base_uri": "https://localhost:8080/"
        },
        "id": "FvZ3XO75m47U",
        "outputId": "e3975e10-5ed3-4ddf-a5a1-36a38748de4d"
      },
      "outputs": [
        {
          "output_type": "stream",
          "name": "stdout",
          "text": [
            "Enter an integer to check if it's prime: 67\n",
            "True\n"
          ]
        }
      ],
      "source": [
        "def is_prime(n):\n",
        "    if n <= 1:\n",
        "        return False\n",
        "    for i in range(2, int(n**0.5) + 1):\n",
        "        if n % i == 0:\n",
        "            return False\n",
        "    return True\n",
        "\n",
        "# User input\n",
        "n = int(input(\"Enter an integer to check if it's prime: \"))\n",
        "print(is_prime(n))  # Output: True or False"
      ]
    },
    {
      "cell_type": "code",
      "source": [
        "def sum_of_digits(n):\n",
        "    return sum(int(digit) for digit in str(abs(n)))\n",
        "\n",
        "# User input\n",
        "n = int(input(\"Enter an integer to find the sum of its digits: \"))\n",
        "print(sum_of_digits(n))  # Output: Sum of digits7"
      ],
      "metadata": {
        "colab": {
          "base_uri": "https://localhost:8080/"
        },
        "id": "FpVja0-Bnu03",
        "outputId": "ae49b469-8361-4dac-e142-28059cb1baa8"
      },
      "execution_count": 2,
      "outputs": [
        {
          "output_type": "stream",
          "name": "stdout",
          "text": [
            "Enter an integer to find the sum of its digits: 89\n",
            "17\n"
          ]
        }
      ]
    },
    {
      "cell_type": "code",
      "source": [
        "def reverse_list(lst):\n",
        "    reversed_lst = []\n",
        "    for item in lst:\n",
        "        reversed_lst.insert(0, item)  # Insert at the beginning\n",
        "    return reversed_lst\n",
        "\n",
        "# User input\n",
        "lst = input(\"Enter a list of integers separated by spaces: \")\n",
        "lst = list(map(int, lst.split()))  # Convert input string to a list of integers\n",
        "print(reverse_list(lst))  # Output: Reversed list"
      ],
      "metadata": {
        "colab": {
          "base_uri": "https://localhost:8080/"
        },
        "id": "eLnV67CLnxmf",
        "outputId": "259369f6-a9e9-4637-a6cd-b84a1460de30"
      },
      "execution_count": 4,
      "outputs": [
        {
          "output_type": "stream",
          "name": "stdout",
          "text": [
            "Enter a list of integers separated by spaces: 1 3 4 6 8 \n",
            "[8, 6, 4, 3, 1]\n"
          ]
        }
      ]
    },
    {
      "cell_type": "code",
      "source": [
        "def sort_list(lst):\n",
        "    # Using bubble sort for demonstration\n",
        "    n = len(lst)\n",
        "    for i in range(n):\n",
        "        for j in range(0, n-i-1):\n",
        "            if lst[j] > lst[j+1]:\n",
        "                lst[j], lst[j+1] = lst[j+1], lst[j]\n",
        "    return lst\n",
        "\n",
        "# User input\n",
        "lst = input(\"Enter a list of integers separated by spaces: \")\n",
        "lst = list(map(int, lst.split()))  # Convert input string to a list of integers\n",
        "sorted_lst = sort_list(lst)\n",
        "print(\"Sorted list:\", sorted_lst)  # Output: Sorted list5,6,7,8"
      ],
      "metadata": {
        "colab": {
          "base_uri": "https://localhost:8080/"
        },
        "id": "DspdG4-9n24X",
        "outputId": "48162e91-2dce-43b1-81dd-c616a195ad56"
      },
      "execution_count": 5,
      "outputs": [
        {
          "output_type": "stream",
          "name": "stdout",
          "text": [
            "Enter a list of integers separated by spaces: 1 2 3 4 6\n",
            "Sorted list: [1, 2, 3, 4, 6]\n"
          ]
        }
      ]
    },
    {
      "cell_type": "code",
      "source": [
        "def remove_duplicates(lst):\n",
        "    return list(set(lst))  # Using set to remove duplicates\n",
        "\n",
        "# User input\n",
        "lst = input(\"Enter a list of integers separated by spaces: \")\n",
        "lst = list(map(int, lst.split()))  # Convert input string to a list of integers\n",
        "unique_lst = remove_duplicates(lst)\n",
        "print(\"List with unique elements:\", unique_lst)  # Output: List with unique elements"
      ],
      "metadata": {
        "colab": {
          "base_uri": "https://localhost:8080/"
        },
        "id": "7SNLFwntn-Gf",
        "outputId": "5619480c-3c40-4d71-d423-1d02a2abc93d"
      },
      "execution_count": 6,
      "outputs": [
        {
          "output_type": "stream",
          "name": "stdout",
          "text": [
            "Enter a list of integers separated by spaces: 1 5 8 9\n",
            "List with unique elements: [8, 1, 5, 9]\n"
          ]
        }
      ]
    },
    {
      "cell_type": "code",
      "source": [
        "def string_length(s):\n",
        "    count = 0\n",
        "    for char in s:\n",
        "        count += 1\n",
        "    return count\n",
        "\n",
        "# User input\n",
        "s = input(\"Enter a string: \")\n",
        "length = string_length(s)\n",
        "print(\"Length of the string:\", length)  # Output: Length of the string"
      ],
      "metadata": {
        "colab": {
          "base_uri": "https://localhost:8080/"
        },
        "id": "LLvUNSLOoEDK",
        "outputId": "0dbc0cdb-3db8-490c-88b5-bc3f1ec9225b"
      },
      "execution_count": 7,
      "outputs": [
        {
          "output_type": "stream",
          "name": "stdout",
          "text": [
            "Enter a string: hello\n",
            "Length of the string: 5\n"
          ]
        }
      ]
    },
    {
      "cell_type": "code",
      "source": [
        "def count_vowels_and_consonants(s):\n",
        "    vowels = set('aeiouAEIOU')\n",
        "    vowel_count = 0\n",
        "    consonant_count = 0\n",
        "\n",
        "    for char in s:\n",
        "        if char.isalpha():  # Check if the character is a letter\n",
        "            if char in vowels:\n",
        "                vowel_count += 1\n",
        "            else:\n",
        "                consonant_count += 1\n",
        "\n",
        "    return vowel_count, consonant_count\n",
        "\n",
        "# User input\n",
        "s = input(\"Enter a string: \")\n",
        "vowels_count, consonants_count = count_vowels_and_consonants(s)\n",
        "print(f\"Vowels: {vowels_count}, Consonants: {consonants_count}\")  # Output: Counts of vowels and consonants"
      ],
      "metadata": {
        "colab": {
          "base_uri": "https://localhost:8080/"
        },
        "id": "5fajb2sxoJLx",
        "outputId": "e5bdfaac-521b-4df1-ef15-e555e273c29a"
      },
      "execution_count": 8,
      "outputs": [
        {
          "output_type": "stream",
          "name": "stdout",
          "text": [
            "Enter a string: helllo\n",
            "Vowels: 2, Consonants: 4\n"
          ]
        }
      ]
    },
    {
      "cell_type": "code",
      "source": [
        "import random\n",
        "\n",
        "def generate_maze(width, height):\n",
        "    # Create a grid filled with walls\n",
        "    maze = [['#' for _ in range(width)] for _ in range(height)]\n",
        "\n",
        "    # Start carving paths from the initial position\n",
        "    def carve_passages(x, y):\n",
        "        directions = [(2, 0), (-2, 0), (0, 2), (0, -2)]  # Down, Up, Right, Left\n",
        "        random.shuffle(directions)  # Randomize directions\n",
        "\n",
        "        for dx, dy in directions:\n",
        "            nx, ny = x + dx, y + dy\n",
        "            if 0 < nx < width and 0 < ny < height and maze[ny][nx] == '#':\n",
        "                maze[y + dy // 2][x + dx // 2] = ' '  # Carve a passage\n",
        "                maze[ny][nx] = ' '  # Carve the next cell\n",
        "                carve_passages(nx, ny)  # Recursively carve from the new cell\n",
        "\n",
        "    # Start carving from the top-left corner\n",
        "    maze[1][1] = ' '\n",
        "    carve_passages(1, 1)\n",
        "    return maze\n",
        "\n",
        "def print_maze(maze):\n",
        "    for row in maze:\n",
        "        print(''.join(row))\n",
        "\n",
        "def solve_maze(maze, start, end):\n",
        "    stack = [start]\n",
        "    visited = set()\n",
        "    path = []\n",
        "\n",
        "    while stack:\n",
        "        current = stack.pop()\n",
        "        if current == end:\n",
        "            path.append(current)\n",
        "            return path\n",
        "        if current in visited:\n",
        "            continue\n",
        "        visited.add(current)\n",
        "        path.append(current)\n",
        "        x, y = current\n",
        "\n",
        "        # Check neighbors (down, up, right, left)\n",
        "        for dx, dy in [(0, 1), (0, -1), (1, 0), (-1, 0)]:\n",
        "            nx, ny = x + dx, y + dy\n",
        "            if 0 <= ny < len(maze) and 0 <= nx < len(maze[0]) and maze[ny][nx] == ' ':\n",
        "                stack.append((nx, ny))\n",
        "\n",
        "    return []  # Return an empty path if no solution is found\n",
        "\n",
        "def mark_path(maze, path):\n",
        "    for x, y in path:\n",
        "        if (x, y) != (1, 1) and (x, y) != (len(maze[0]) - 2, len(maze) - 2):\n",
        "            maze[y][x] = '.'  # Mark the path with a dot\n",
        "\n",
        "# Main program flow\n",
        "if __name__ == \"__main__\":\n",
        "    width = int(input(\"Enter maze width (odd number): \"))\n",
        "    height = int(input(\"Enter maze height (odd number): \"))\n",
        "\n",
        "    # Ensure width and height are odd\n",
        "    if width % 2 == 0:\n",
        "        width += 1\n",
        "    if height % 2 == 0:\n",
        "        height += 1\n",
        "\n",
        "    maze = generate_maze(width, height)\n",
        "    print(\"Generated Maze:\")\n",
        "    print_maze(maze)\n",
        "\n",
        "    # Solve the maze from top-left to bottom-right\n",
        "    start = (1, 1)\n",
        "    end = (width - 2, height - 2)\n",
        "    path = solve_maze(maze, start, end)\n",
        "\n",
        "    if path:\n",
        "        print(\"Maze is solvable. Path found:\")\n",
        "        mark_path(maze, path)\n",
        "        print_maze(maze)\n",
        "    else:\n",
        "        print(\"Maze is not solvable.\")"
      ],
      "metadata": {
        "colab": {
          "base_uri": "https://localhost:8080/"
        },
        "id": "sQRtHH6joOn8",
        "outputId": "5e7ff28c-8bbf-4430-d438-47865e1892df"
      },
      "execution_count": 10,
      "outputs": [
        {
          "output_type": "stream",
          "name": "stdout",
          "text": [
            "Enter maze width (odd number): 11\n",
            "Enter maze height (odd number): 11\n",
            "Generated Maze:\n",
            "###########\n",
            "# #     # #\n",
            "# # ### # #\n",
            "# # # # # #\n",
            "# # # # # #\n",
            "#   #   # #\n",
            "##### ### #\n",
            "#   #     #\n",
            "# ####### #\n",
            "#         #\n",
            "###########\n",
            "Maze is solvable. Path found:\n",
            "###########\n",
            "# #.....#.#\n",
            "#.#.###.#.#\n",
            "#.#.#.#.#.#\n",
            "#.#.#.#.#.#\n",
            "#...#...#.#\n",
            "#####.###.#\n",
            "#   #.....#\n",
            "# #######.#\n",
            "#         #\n",
            "###########\n"
          ]
        }
      ]
    },
    {
      "cell_type": "code",
      "source": [
        "3\n"
      ],
      "metadata": {
        "id": "dKU4z_qHoUsr"
      },
      "execution_count": null,
      "outputs": []
    }
  ]
}