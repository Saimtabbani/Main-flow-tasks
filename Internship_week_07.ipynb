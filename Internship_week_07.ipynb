{
  "nbformat": 4,
  "nbformat_minor": 0,
  "metadata": {
    "colab": {
      "provenance": [],
      "authorship_tag": "ABX9TyNfT08f+/JtjWshKYYNzaj2",
      "include_colab_link": true
    },
    "kernelspec": {
      "name": "python3",
      "display_name": "Python 3"
    },
    "language_info": {
      "name": "python"
    }
  },
  "cells": [
    {
      "cell_type": "markdown",
      "metadata": {
        "id": "view-in-github",
        "colab_type": "text"
      },
      "source": [
        "<a href=\"https://colab.research.google.com/github/Saimtabbani/Main-flow-tasks/blob/main/Internship_week_07.ipynb\" target=\"_parent\"><img src=\"https://colab.research.google.com/assets/colab-badge.svg\" alt=\"Open In Colab\"/></a>"
      ]
    },
    {
      "cell_type": "code",
      "execution_count": 1,
      "metadata": {
        "id": "LICM1yo_xtX5",
        "colab": {
          "base_uri": "https://localhost:8080/"
        },
        "outputId": "85977fd7-7a08-43ff-ef58-deeb4de025fa"
      },
      "outputs": [
        {
          "output_type": "stream",
          "name": "stdout",
          "text": [
            "Number of inversions are: 5\n"
          ]
        }
      ],
      "source": [
        "#Task 47  Count Inversions\n",
        "def merge_and_count(arr, temp_arr, left, mid, right):\n",
        "    i = left\n",
        "    j = mid + 1\n",
        "    k = left\n",
        "    inv_count = 0\n",
        "    while i <= mid and j <= right:\n",
        "        if arr[i] <= arr[j]:\n",
        "            temp_arr[k] = arr[i]\n",
        "            i += 1\n",
        "        else:\n",
        "            temp_arr[k] = arr[j]\n",
        "            inv_count += (mid - i + 1)\n",
        "            j += 1\n",
        "        k += 1\n",
        "    while i <= mid:\n",
        "        temp_arr[k] = arr[i]\n",
        "        i += 1\n",
        "        k += 1\n",
        "    while j <= right:\n",
        "        temp_arr[k] = arr[j]\n",
        "        j += 1\n",
        "        k += 1\n",
        "    for i in range(left, right + 1):\n",
        "        arr[i] = temp_arr[i]\n",
        "    return inv_count\n",
        "def merge_sort_and_count(arr, temp_arr, left, right):\n",
        "    inv_count = 0\n",
        "    if left < right:\n",
        "        mid = (left + right) // 2\n",
        "        inv_count += merge_sort_and_count(arr, temp_arr, left, mid)\n",
        "        inv_count += merge_sort_and_count(arr, temp_arr, mid + 1, right)\n",
        "        inv_count += merge_and_count(arr, temp_arr, left, mid, right)\n",
        "    return inv_count\n",
        "def count_inversions(arr):\n",
        "    temp_arr = [0] * len(arr)\n",
        "    return merge_sort_and_count(arr, temp_arr, 0, len(arr) - 1)\n",
        "\n",
        "# Example usage\n",
        "input_array = [1, 20, 6, 4, 5]\n",
        "inversion_count = count_inversions(input_array)\n",
        "print(\"Number of inversions are:\", inversion_count)"
      ]
    },
    {
      "cell_type": "code",
      "source": [
        "#Task 48  Find the Longest Palindromic Substring\n",
        "def longest_palindromic_substring(s):\n",
        "    if not s:\n",
        "        return \"\"\n",
        "    start, end = 0, 0\n",
        "    for i in range(len(s)):\n",
        "        len1 = expand_around_center(s, i, i)\n",
        "        len2 = expand_around_center(s, i, i + 1)\n",
        "        max_len = max(len1, len2)\n",
        "        if max_len > end - start:\n",
        "            start = i - (max_len - 1) // 2\n",
        "            end = i + max_len // 2\n",
        "    return s[start:end + 1]\n",
        "def expand_around_center(s, left, right):\n",
        "    while left >= 0 and right < len(s) and s[left] == s[right]:\n",
        "        left -= 1\n",
        "        right += 1\n",
        "    return right - left - 1\n",
        "\n",
        "# Example usage\n",
        "input_string = \"babad\"\n",
        "longest_palindrome = longest_palindromic_substring(input_string)\n",
        "print(\"The longest palindromic substring is:\", longest_palindrome)"
      ],
      "metadata": {
        "colab": {
          "base_uri": "https://localhost:8080/"
        },
        "id": "znmw8fr_5Eqr",
        "outputId": "8a7b218d-0d00-45f5-e010-07814a55f897"
      },
      "execution_count": 2,
      "outputs": [
        {
          "output_type": "stream",
          "name": "stdout",
          "text": [
            "The longest palindromic substring is: aba\n"
          ]
        }
      ]
    },
    {
      "cell_type": "code",
      "source": [
        "#Task 49 Traveling Salesman Problem (TSP)\n",
        "import sys\n",
        "def tsp_dp(dist):\n",
        "    n = len(dist)\n",
        "    dp = [[sys.maxsize] * (1 << n) for _ in range(n)]\n",
        "    dp[0][1] = 0\n",
        "    for mask in range(1 << n):\n",
        "        for u in range(n):\n",
        "            if mask & (1 << u):\n",
        "                for v in range(n):\n",
        "                    if mask & (1 << v) == 0:\n",
        "                        new_mask = mask | (1 << v)\n",
        "                        dp[v][new_mask] = min(dp[v][new_mask], dp[u][mask] + dist[u][v])\n",
        "    min_cost = sys.maxsize\n",
        "    for u in range(1, n):\n",
        "        min_cost = min(min_cost, dp[u][(1 << n) - 1] + dist[u][0])\n",
        "    return min_cost\n",
        "# Example usage\n",
        "if __name__ == \"__main__\":\n",
        "    distance_matrix = [\n",
        "        [0, 10, 15, 20],\n",
        "        [10, 0, 35, 25],\n",
        "        [15, 35, 0, 30],\n",
        "        [20, 25, 30, 0]\n",
        "    ]\n",
        "    shortest_distance = tsp_dp(distance_matrix)\n",
        "    print(\"The shortest possible route distance is:\", shortest_distance)"
      ],
      "metadata": {
        "colab": {
          "base_uri": "https://localhost:8080/"
        },
        "id": "gw7ggj3g5e1F",
        "outputId": "f8ad391c-7047-4da7-e0c0-48dc668ef484"
      },
      "execution_count": 3,
      "outputs": [
        {
          "output_type": "stream",
          "name": "stdout",
          "text": [
            "The shortest possible route distance is: 80\n"
          ]
        }
      ]
    },
    {
      "cell_type": "code",
      "source": [
        "#Task 50 Graph Cycle Detection\n",
        "def has_cycle(graph):\n",
        "    visited = set()\n",
        "    def dfs(node, parent):\n",
        "        visited.add(node)\n",
        "        for neighbor in graph[node]:\n",
        "            if neighbor not in visited:\n",
        "                if dfs(neighbor, node):\n",
        "                    return True\n",
        "            elif neighbor != parent:\n",
        "                return True\n",
        "        return False\n",
        "    for vertex in graph:\n",
        "        if vertex not in visited:\n",
        "            if dfs(vertex, None):\n",
        "                return True\n",
        "    return False\n",
        "\n",
        "# Example usage\n",
        "if __name__ == \"__main__\":\n",
        "    graph = {\n",
        "        0: [1, 2],\n",
        "        1: [0, 2],\n",
        "        2: [0, 1, 3],\n",
        "        3: [2]\n",
        "    }\n",
        "    if has_cycle(graph):\n",
        "        print(\"The graph contains a cycle.\")\n",
        "    else:\n",
        "        print(\"The graph does not contain a cycle.\")"
      ],
      "metadata": {
        "colab": {
          "base_uri": "https://localhost:8080/"
        },
        "id": "IM6LeURJ6dqR",
        "outputId": "971ad65a-a2e5-412d-da74-9e9a38e0cb89"
      },
      "execution_count": 4,
      "outputs": [
        {
          "output_type": "stream",
          "name": "stdout",
          "text": [
            "The graph contains a cycle.\n"
          ]
        }
      ]
    },
    {
      "cell_type": "code",
      "source": [
        "#Task 51 Longest Substring Without Repeating Characters\n",
        "def length_of_longest_substring(s):\n",
        "    char_set = set()\n",
        "    max_length = 0\n",
        "    left = 0\n",
        "    for right in range(len(s)):\n",
        "        while s[right] in char_set:\n",
        "            char_set.remove(s[left])\n",
        "            left += 1\n",
        "        char_set.add(s[right])\n",
        "        max_length = max(max_length, right - left + 1)\n",
        "    return max_length\n",
        "\n",
        "# Example usage\n",
        "input_string = \"abcabcbb\"\n",
        "length = length_of_longest_substring(input_string)\n",
        "print(\"The length of the longest substring without repeating characters is:\", length)"
      ],
      "metadata": {
        "colab": {
          "base_uri": "https://localhost:8080/"
        },
        "id": "ErX1csGt64O0",
        "outputId": "84fe6e79-8dd2-4889-d28d-82b9a29e9a74"
      },
      "execution_count": 5,
      "outputs": [
        {
          "output_type": "stream",
          "name": "stdout",
          "text": [
            "The length of the longest substring without repeating characters is: 3\n"
          ]
        }
      ]
    },
    {
      "cell_type": "code",
      "source": [
        "#Task 52 Find All Valid Parentheses Combinations\n",
        "def generate_parentheses(n):\n",
        "    def backtrack(current, open_count, close_count):\n",
        "        if len(current) == 2 * n:\n",
        "            result.append(current)\n",
        "            return\n",
        "        if open_count < n:\n",
        "            backtrack(current + '(', open_count + 1, close_count)\n",
        "        if close_count < open_count:\n",
        "            backtrack(current + ')', open_count, close_count + 1)\n",
        "    result = []\n",
        "    backtrack('', 0, 0)\n",
        "    return result\n",
        "\n",
        "# Example usage\n",
        "n = 3\n",
        "valid_combinations = generate_parentheses(n)\n",
        "print(\"All valid parentheses combinations for n =\", n, \"are:\", valid_combinations)"
      ],
      "metadata": {
        "colab": {
          "base_uri": "https://localhost:8080/"
        },
        "id": "C_PrBYbn7YJT",
        "outputId": "93303004-1264-499e-c6d2-e0980601fd38"
      },
      "execution_count": 6,
      "outputs": [
        {
          "output_type": "stream",
          "name": "stdout",
          "text": [
            "All valid parentheses combinations for n = 3 are: ['((()))', '(()())', '(())()', '()(())', '()()()']\n"
          ]
        }
      ]
    },
    {
      "cell_type": "code",
      "source": [
        "#Task 53 Zigzag Level Order Traversal of Binary Tree\n",
        "class TreeNode:\n",
        "    def __init__(self, val=0, left=None, right=None):\n",
        "        self.val = val\n",
        "        self.left = left\n",
        "        self.right = right\n",
        "def zigzag_level_order(root):\n",
        "    if not root:\n",
        "        return []\n",
        "    result = []\n",
        "    current_level = []\n",
        "    left_to_right = True\n",
        "    stack1 = [root]\n",
        "    stack2 = []\n",
        "\n",
        "    while stack1:\n",
        "        while stack1:\n",
        "            node = stack1.pop()\n",
        "            current_level.append(node.val)\n",
        "            if left_to_right:\n",
        "                if node.left:\n",
        "                    stack2.append(node.left)\n",
        "                if node.right:\n",
        "                    stack2.append(node.right)\n",
        "            else:\n",
        "                if node.right:\n",
        "                    stack2.append(node.right)\n",
        "                if node.left:\n",
        "                    stack2.append(node.left)\n",
        "        result.append(current_level)\n",
        "        current_level = []\n",
        "        left_to_right = not left_to_right\n",
        "        stack1, stack2 = stack2, stack1\n",
        "    return result\n",
        "\n",
        "# Example usage\n",
        "if __name__ == \"__main__\":\n",
        "    root = TreeNode(1)\n",
        "    root.left = TreeNode(2)\n",
        "    root.right = TreeNode(3)\n",
        "    root.left.left = TreeNode(4)\n",
        "    root.left.right = TreeNode(5)\n",
        "    root.right.right = TreeNode(6)\n",
        "\n",
        "    zigzag_order = zigzag_level_order(root)\n",
        "    print(\"Zigzag level order traversal:\", zigzag_order)"
      ],
      "metadata": {
        "colab": {
          "base_uri": "https://localhost:8080/"
        },
        "id": "iLXj4LbW718t",
        "outputId": "2b14214c-0e8a-40ae-e232-503cb5b54d27"
      },
      "execution_count": 7,
      "outputs": [
        {
          "output_type": "stream",
          "name": "stdout",
          "text": [
            "Zigzag level order traversal: [[1], [3, 2], [4, 5, 6]]\n"
          ]
        }
      ]
    },
    {
      "cell_type": "code",
      "source": [
        "#Task 54 Palindrome Partitioning\n",
        "def is_palindrome(s):\n",
        "    return s == s[::-1]\n",
        "def backtrack(start, path, result, s):\n",
        "    if start == len(s):\n",
        "        result.append(path.copy())\n",
        "        return\n",
        "    for end in range(start + 1, len(s) + 1):\n",
        "        substring = s[start:end]\n",
        "        if is_palindrome(substring):\n",
        "            path.append(substring)\n",
        "            backtrack(end, path, result, s)\n",
        "            path.pop()\n",
        "def partition(s):\n",
        "    result = []\n",
        "    backtrack(0, [], result, s)\n",
        "    return result\n",
        "# Example usage\n",
        "input_string = \"aab\"\n",
        "partitions = partition(input_string)\n",
        "print(\"All palindromic partitions are:\", partitions)"
      ],
      "metadata": {
        "colab": {
          "base_uri": "https://localhost:8080/"
        },
        "id": "dUkO27UN8dVb",
        "outputId": "c9aa4ca4-b83d-4c03-f72a-a223ed4078c8"
      },
      "execution_count": 8,
      "outputs": [
        {
          "output_type": "stream",
          "name": "stdout",
          "text": [
            "All palindromic partitions are: [['a', 'a', 'b'], ['aa', 'b']]\n"
          ]
        }
      ]
    },
    {
      "cell_type": "code",
      "source": [
        "# 7. Personal Budget Advisor\n",
        "class BudgetAdvisor:\n",
        "    def __init__(self):\n",
        "        self.income = 0\n",
        "        self.expenses = {}\n",
        "    def add_income(self, amount):\n",
        "        if amount < 0:\n",
        "            print(\"Income cannot be negative.\")\n",
        "            return\n",
        "        self.income += amount\n",
        "        print(f\"Added income: ${amount:.2f}. Total income: ${self.income:.2f}\")\n",
        "    def add_expense(self, category, amount):\n",
        "        if amount < 0:\n",
        "            print(\"Expense cannot be negative.\")\n",
        "            return\n",
        "        if category in self.expenses:\n",
        "            self.expenses[category] += amount\n",
        "        else:\n",
        "            self.expenses[category] = amount\n",
        "        print(f\"Added expense: ${amount:.2f} in category '{category}'. Total expenses in '{category}': ${self.expenses[category]:.2f}\")\n",
        "    def summarize(self):\n",
        "        total_expenses = sum(self.expenses.values())\n",
        "        print(\"\\n--- Budget Summary ---\")\n",
        "        print(f\"Total Income: ${self.income:.2f}\")\n",
        "        print(f\"Total Expenses: ${total_expenses:.2f}\")\n",
        "        print(f\"Remaining Balance: ${self.income - total_expenses:.2f}\")\n",
        "        if total_expenses > self.income:\n",
        "            print(\"Warning: You are spending more than you earn!\")\n",
        "        print(\"\\n--- Expense Breakdown ---\")\n",
        "        for category, amount in self.expenses.items():\n",
        "            percentage = (amount / total_expenses * 100) if total_expenses > 0 else 0\n",
        "            print(f\"{category}: ${amount:.2f} ({percentage:.2f}%)\")\n",
        "        self.suggest_savings(total_expenses)\n",
        "    def suggest_savings(self, total_expenses):\n",
        "        if total_expenses > self.income:\n",
        "            print(\"Consider reducing your expenses.\")\n",
        "        elif total_expenses < self.income * 0.5:\n",
        "            print(\"Great job! You are saving a significant amount.\")\n",
        "        else:\n",
        "            print(\"You are managing your budget well, but there's room for improvement.\")\n",
        "\n",
        "def main():\n",
        "    advisor = BudgetAdvisor()\n",
        "    while True:\n",
        "        print(\"\\n1. Add Income\")\n",
        "        print(\"2. Add Expense\")\n",
        "        print(\"3. Summarize Budget\")\n",
        "        print(\"4. Exit\")\n",
        "        choice = input(\"Choose an option (1-4): \")\n",
        "        if choice == '1':\n",
        "            try:\n",
        "                amount = float(input(\"Enter income amount: \"))\n",
        "                advisor.add_income(amount)\n",
        "            except ValueError:\n",
        "                print(\"Invalid input. Please enter a numeric value.\")\n",
        "        elif choice == '2':\n",
        "            category = input(\"Enter expense category: \")\n",
        "            try:\n",
        "                amount = float(input(\"Enter expense amount: \"))\n",
        "                advisor.add_expense(category, amount)\n",
        "            except ValueError:\n",
        "                print(\"Invalid input. Please enter a numeric value.\")\n",
        "        elif choice == '3':\n",
        "            advisor.summarize()\n",
        "        elif choice == '4':\n",
        "            print(\"Exiting the program.\")\n",
        "            break\n",
        "        else:\n",
        "            print(\"Invalid choice. Please select a valid option.\")\n",
        "if __name__ == \"__main__\":\n",
        "    main()"
      ],
      "metadata": {
        "colab": {
          "base_uri": "https://localhost:8080/"
        },
        "id": "kri9K4CG841A",
        "outputId": "6f030b4f-eaaa-4a88-cf4c-93f15048014d"
      },
      "execution_count": null,
      "outputs": [
        {
          "output_type": "stream",
          "name": "stdout",
          "text": [
            "\n",
            "1. Add Income\n",
            "2. Add Expense\n",
            "3. Summarize Budget\n",
            "4. Exit\n",
            "Choose an option (1-4): 1\n",
            "Enter income amount: 100\n",
            "Added income: $100.00. Total income: $100.00\n",
            "\n",
            "1. Add Income\n",
            "2. Add Expense\n",
            "3. Summarize Budget\n",
            "4. Exit\n"
          ]
        }
      ]
    },
    {
      "cell_type": "code",
      "source": [],
      "metadata": {
        "id": "qip6t2dQ9cAo"
      },
      "execution_count": null,
      "outputs": []
    }
  ]
}