{
  "nbformat": 4,
  "nbformat_minor": 0,
  "metadata": {
    "colab": {
      "provenance": [],
      "authorship_tag": "ABX9TyOTRIDjhwoWZzrpixozWyTG",
      "include_colab_link": true
    },
    "kernelspec": {
      "name": "python3",
      "display_name": "Python 3"
    },
    "language_info": {
      "name": "python"
    }
  },
  "cells": [
    {
      "cell_type": "markdown",
      "metadata": {
        "id": "view-in-github",
        "colab_type": "text"
      },
      "source": [
        "<a href=\"https://colab.research.google.com/github/Saimtabbani/Main-flow-tasks/blob/main/Internship_week_01.ipynb\" target=\"_parent\"><img src=\"https://colab.research.google.com/assets/colab-badge.svg\" alt=\"Open In Colab\"/></a>"
      ]
    },
    {
      "cell_type": "code",
      "execution_count": 1,
      "metadata": {
        "colab": {
          "base_uri": "https://localhost:8080/",
          "height": 0
        },
        "id": "Aby2QyMtYx-o",
        "outputId": "363e972e-64f5-4ee4-ac92-def26b43b993"
      },
      "outputs": [
        {
          "output_type": "stream",
          "name": "stdout",
          "text": [
            "sum: 10\n"
          ]
        }
      ],
      "source": [
        "#Task_01 : SUM of two numbers\n",
        "a = 2\n",
        "b = 8\n",
        "print(\"sum:\", a + b)"
      ]
    },
    {
      "cell_type": "code",
      "source": [
        "#Task_02 : Odd or Even\n",
        "n = 5\n",
        "if n % 2 == 0:\n",
        "   print(\"Even\")\n",
        "else:\n",
        "   print(\"Odd\")"
      ],
      "metadata": {
        "colab": {
          "base_uri": "https://localhost:8080/",
          "height": 0
        },
        "id": "_OwddIxCY8Op",
        "outputId": "f62ba6cf-064c-423d-af43-32760bf1003c"
      },
      "execution_count": 3,
      "outputs": [
        {
          "output_type": "stream",
          "name": "stdout",
          "text": [
            "Odd\n"
          ]
        }
      ]
    },
    {
      "cell_type": "code",
      "source": [
        "#Task_03 : Factorial calculation\n",
        "n =  22\n",
        "factorial = 1\n",
        "for i in range(1, n + 1):\n",
        "  factorial *= i\n",
        "print(f\"factorial of {n} is {factorial}\")"
      ],
      "metadata": {
        "colab": {
          "base_uri": "https://localhost:8080/",
          "height": 0
        },
        "id": "FCWmwwCoZBGp",
        "outputId": "873a75c4-9795-40e7-f7ff-056f1c7e2af0"
      },
      "execution_count": 7,
      "outputs": [
        {
          "output_type": "stream",
          "name": "stdout",
          "text": [
            "factorial of 22 is 1124000727777607680000\n"
          ]
        }
      ]
    },
    {
      "cell_type": "code",
      "source": [
        "#Task_04 : Fibonacci sequence\n",
        "n = 14\n",
        "a, b = 0, 1\n",
        "print(\"fibonacci series\")\n",
        "for i in range (n):\n",
        "  print(a, end =\" \")  # start from a and end at  _  (for the ending value)\n",
        "  a, b = b, a+b"
      ],
      "metadata": {
        "colab": {
          "base_uri": "https://localhost:8080/",
          "height": 0
        },
        "id": "x_fmct1SpbFh",
        "outputId": "fc4561cd-2351-48d3-d703-ee620e74ac89"
      },
      "execution_count": 9,
      "outputs": [
        {
          "output_type": "stream",
          "name": "stdout",
          "text": [
            "fibonacci series\n",
            "0 1 1 2 3 5 8 13 21 34 55 89 144 233 "
          ]
        }
      ]
    },
    {
      "cell_type": "code",
      "source": [
        "#Task_05 : Reverse a string\n",
        "s = \"hello\"\n",
        "print(\"Reversed string:\", s[::-1])\n"
      ],
      "metadata": {
        "colab": {
          "base_uri": "https://localhost:8080/",
          "height": 0
        },
        "id": "nmVbgCiVtPhn",
        "outputId": "b7a71c4e-3734-4429-cdc3-63b1a6df2743"
      },
      "execution_count": 1,
      "outputs": [
        {
          "output_type": "stream",
          "name": "stdout",
          "text": [
            "Reversed string: olleh\n"
          ]
        }
      ]
    },
    {
      "cell_type": "code",
      "source": [
        "#Task_06 : Palindrome check\n",
        "s = \"madam\"\n",
        "if s == s[::-1]:\n",
        "    print(f\"{s} is a palindrome\")\n",
        "else:\n",
        "    print(f\"{s} is not a palindrome\")\n"
      ],
      "metadata": {
        "colab": {
          "base_uri": "https://localhost:8080/",
          "height": 0
        },
        "id": "P2vIR7e1mKpy",
        "outputId": "78ed27be-a68c-49a4-cb1d-e172585b9457"
      },
      "execution_count": 2,
      "outputs": [
        {
          "output_type": "stream",
          "name": "stdout",
          "text": [
            "madam is a palindrome\n"
          ]
        }
      ]
    },
    {
      "cell_type": "code",
      "source": [
        "#Task_07 : Leap Year Check\n",
        "year = 2024\n",
        "if (year % 4 == 0 and year % 100 != 0) or (year % 400 == 0):\n",
        "    print(f\"{year} is a leap year\")\n",
        "else:\n",
        "    print(f\"{year} is not a leap year\")"
      ],
      "metadata": {
        "colab": {
          "base_uri": "https://localhost:8080/",
          "height": 0
        },
        "id": "OIeJadZAmWoB",
        "outputId": "274ced3a-d049-4aa2-ebe8-381222f220ee"
      },
      "execution_count": 3,
      "outputs": [
        {
          "output_type": "stream",
          "name": "stdout",
          "text": [
            "2024 is a leap year\n"
          ]
        }
      ]
    },
    {
      "cell_type": "code",
      "source": [
        "# Task 8: Armstrong Number\n",
        "n = 153\n",
        "digits = [int(d) for d in str(n)]\n",
        "power = len(digits)\n",
        "if n == sum(d ** power for d in digits):\n",
        "    print(f\"{n} is an Armstrong number\")\n",
        "else:\n",
        "    print(f\"{n} is not an Armstrong number\")"
      ],
      "metadata": {
        "colab": {
          "base_uri": "https://localhost:8080/",
          "height": 0
        },
        "id": "xqQrEpiimc53",
        "outputId": "79baeabe-1a58-455b-9852-febfe983af77"
      },
      "execution_count": 4,
      "outputs": [
        {
          "output_type": "stream",
          "name": "stdout",
          "text": [
            "153 is an Armstrong number\n"
          ]
        }
      ]
    },
    {
      "cell_type": "code",
      "source": [
        "# Task: Custom Encryption-Decryption System\n",
        "\n",
        "# Function to encrypt a message\n",
        "def encrypt(message, key):\n",
        "    encrypted = \"\"\n",
        "    for char in message:\n",
        "        if char.isalpha():  # Encrypt only alphabetic characters\n",
        "            encrypted += chr(ord(char) + key)  # Shift by the key\n",
        "        else:\n",
        "            encrypted += char  # Leave non-alphabetic characters unchanged\n",
        "    return encrypted\n",
        "\n",
        "# Function to decrypt a message\n",
        "def decrypt(encrypted_message, key):\n",
        "    decrypted = \"\"\n",
        "    for char in encrypted_message:\n",
        "        if char.isalpha():  # Decrypt only alphabetic characters\n",
        "            decrypted += chr(ord(char) - key)  # Reverse the shift\n",
        "        else:\n",
        "            decrypted += char  # Leave non-alphabetic characters unchanged\n",
        "    return decrypted\n",
        "\n",
        "# Example usage\n",
        "message = \"Hello, World!\"  # Original message\n",
        "key = 2  # Encryption key\n",
        "\n",
        "# Encrypt the message\n",
        "encrypted_message = encrypt(message, key)\n",
        "print(\"Encrypted Message:\", encrypted_message)\n",
        "\n",
        "# Decrypt the message\n",
        "decrypted_message = decrypt(encrypted_message, key)\n",
        "print(\"Decrypted Message:\", decrypted_message)\n"
      ],
      "metadata": {
        "colab": {
          "base_uri": "https://localhost:8080/",
          "height": 0
        },
        "id": "38qw0vypmhch",
        "outputId": "adb32059-14c4-407c-8aec-d48841097cf9"
      },
      "execution_count": 5,
      "outputs": [
        {
          "output_type": "stream",
          "name": "stdout",
          "text": [
            "Encrypted Message: Jgnnq, Yqtnf!\n",
            "Decrypted Message: Hello, World!\n"
          ]
        }
      ]
    },
    {
      "cell_type": "code",
      "source": [],
      "metadata": {
        "id": "0BG8mbk4nGBL"
      },
      "execution_count": null,
      "outputs": []
    }
  ]
}