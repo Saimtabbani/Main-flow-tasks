{
  "nbformat": 4,
  "nbformat_minor": 0,
  "metadata": {
    "colab": {
      "provenance": [],
      "authorship_tag": "ABX9TyP4Q3OCZ3/ROrlPiiqJZNJb",
      "include_colab_link": true
    },
    "kernelspec": {
      "name": "python3",
      "display_name": "Python 3"
    },
    "language_info": {
      "name": "python"
    }
  },
  "cells": [
    {
      "cell_type": "markdown",
      "metadata": {
        "id": "view-in-github",
        "colab_type": "text"
      },
      "source": [
        "<a href=\"https://colab.research.google.com/github/Saimtabbani/Main-flow-tasks/blob/main/Internship_week_04.ipynb\" target=\"_parent\"><img src=\"https://colab.research.google.com/assets/colab-badge.svg\" alt=\"Open In Colab\"/></a>"
      ]
    },
    {
      "cell_type": "code",
      "execution_count": 1,
      "metadata": {
        "colab": {
          "base_uri": "https://localhost:8080/"
        },
        "id": "CtVBJeRgGGFF",
        "outputId": "044e85b5-5a40-4e50-eb8b-793c4f631685"
      },
      "outputs": [
        {
          "output_type": "stream",
          "name": "stdout",
          "text": [
            "3\n"
          ]
        }
      ],
      "source": [
        "# Task 24 Find Missing Number\n",
        "def find_missing_number(arr):\n",
        "    n = len(arr) + 1\n",
        "    expected_sum = n * (n + 1) // 2\n",
        "    actual_sum = sum(arr)\n",
        "    return expected_sum - actual_sum\n",
        "\n",
        "numbers = [1, 2, 4, 5, 6]\n",
        "print(find_missing_number(numbers))"
      ]
    },
    {
      "cell_type": "code",
      "source": [
        "# Task 25  Check Balanced Parentheses\n",
        "def is_balanced(s):\n",
        "    stack = []\n",
        "    mapping = {')': '(', '}': '{', ']': '['}\n",
        "\n",
        "    for char in s:\n",
        "        if char in mapping:\n",
        "            top = stack.pop() if stack else '#'\n",
        "            if mapping[char] != top:\n",
        "                return False\n",
        "        else:\n",
        "            stack.append(char)\n",
        "    return not stack\n",
        "\n",
        "print(is_balanced(\"({[]})\"))\n",
        "print(is_balanced(\"({[})\"))\n"
      ],
      "metadata": {
        "colab": {
          "base_uri": "https://localhost:8080/"
        },
        "id": "oBCb91OOGglz",
        "outputId": "476034c9-345e-4ddb-bedf-d39d8072ded0"
      },
      "execution_count": 2,
      "outputs": [
        {
          "output_type": "stream",
          "name": "stdout",
          "text": [
            "True\n",
            "False\n"
          ]
        }
      ]
    },
    {
      "cell_type": "code",
      "source": [
        "# Task 26 Longest Word in a Sentence\n",
        "def longest_word(sentence):\n",
        "    words = sentence.split()\n",
        "    return max(words, key=len)\n",
        "\n",
        "# Example usage\n",
        "print(longest_word(\"Find the longest word in this sentence.\"))\n"
      ],
      "metadata": {
        "colab": {
          "base_uri": "https://localhost:8080/"
        },
        "id": "HLbyt8hMGrAe",
        "outputId": "f1922c00-99c7-4daa-e0ca-f319f7063119"
      },
      "execution_count": 3,
      "outputs": [
        {
          "output_type": "stream",
          "name": "stdout",
          "text": [
            "sentence.\n"
          ]
        }
      ]
    },
    {
      "cell_type": "code",
      "source": [
        "# Task 27 Count Words in a Sentence\n",
        "def word_count(sentence):\n",
        "    return len(sentence.split())\n",
        "\n",
        "\n",
        "print(word_count(\"Count the number of words in this sentence.\"))"
      ],
      "metadata": {
        "colab": {
          "base_uri": "https://localhost:8080/"
        },
        "id": "ntCwHr09G81S",
        "outputId": "cf1ea8f7-5870-4c50-da52-b9aa0724121b"
      },
      "execution_count": 4,
      "outputs": [
        {
          "output_type": "stream",
          "name": "stdout",
          "text": [
            "8\n"
          ]
        }
      ]
    },
    {
      "cell_type": "code",
      "source": [
        "# Task 28 Check Pythagorean Triplet\n",
        "def is_pythagorean_triplet(a, b, c):\n",
        "    x, y, z = sorted([a, b, c])\n",
        "    return x**2 + y**2 == z**2\n",
        "\n",
        "print(is_pythagorean_triplet(3, 4, 5))"
      ],
      "metadata": {
        "colab": {
          "base_uri": "https://localhost:8080/"
        },
        "id": "3NuumZ0tHFfW",
        "outputId": "47472100-55b6-4e45-fd37-ad0c6bb0d8ba"
      },
      "execution_count": 5,
      "outputs": [
        {
          "output_type": "stream",
          "name": "stdout",
          "text": [
            "True\n"
          ]
        }
      ]
    },
    {
      "cell_type": "code",
      "source": [
        "# Task 29 Bubble Sort\n",
        "def bubble_sort(arr):\n",
        "    n = len(arr)\n",
        "    for i in range(n):\n",
        "        for j in range(0, n - i - 1):\n",
        "            if arr[j] > arr[j + 1]:\n",
        "                arr[j], arr[j + 1] = arr[j + 1], arr[j]\n",
        "    return arr\n",
        "\n",
        "print(bubble_sort([64, 34, 25, 12, 22, 11, 90]))"
      ],
      "metadata": {
        "colab": {
          "base_uri": "https://localhost:8080/"
        },
        "id": "xUo5Sf5EHOQC",
        "outputId": "20ed072c-1175-448b-be9b-b5a612588bf3"
      },
      "execution_count": 6,
      "outputs": [
        {
          "output_type": "stream",
          "name": "stdout",
          "text": [
            "[11, 12, 22, 25, 34, 64, 90]\n"
          ]
        }
      ]
    },
    {
      "cell_type": "code",
      "source": [
        "# Task 30 Binary Search\n",
        "def binary_search(arr, target):\n",
        "    left, right = 0, len(arr) - 1\n",
        "    while left <= right:\n",
        "        mid = (left + right) // 2\n",
        "        if arr[mid] == target:\n",
        "            return mid\n",
        "        elif arr[mid] < target:\n",
        "            left = mid + 1\n",
        "        else:\n",
        "            right = mid - 1\n",
        "    return -1\n",
        "\n",
        "sorted_list = [1, 3, 5, 7, 9, 11]\n",
        "print(binary_search(sorted_list, 5))"
      ],
      "metadata": {
        "colab": {
          "base_uri": "https://localhost:8080/"
        },
        "id": "NnfsI9drHW5-",
        "outputId": "b77bf4bc-cbf7-4d94-925a-5ca558c62462"
      },
      "execution_count": 7,
      "outputs": [
        {
          "output_type": "stream",
          "name": "stdout",
          "text": [
            "2\n"
          ]
        }
      ]
    },
    {
      "cell_type": "code",
      "source": [
        "# Task 31 Find Subarray with Given Sum\n",
        "def subarray_with_sum(arr, target):\n",
        "    left, current_sum = 0, 0\n",
        "    for right in range(len(arr)):\n",
        "        current_sum += arr[right]\n",
        "        while current_sum > target:\n",
        "            current_sum -= arr[left]\n",
        "            left += 1\n",
        "        if current_sum == target:\n",
        "            return arr[left:right + 1]\n",
        "    return -1\n",
        "\n",
        "print(subarray_with_sum([1, 2, 3, 7, 5], 12))"
      ],
      "metadata": {
        "colab": {
          "base_uri": "https://localhost:8080/"
        },
        "id": "oEiJYVHaHuAb",
        "outputId": "70115040-c086-496d-fb6a-a42492b6f743"
      },
      "execution_count": 8,
      "outputs": [
        {
          "output_type": "stream",
          "name": "stdout",
          "text": [
            "[2, 3, 7]\n"
          ]
        }
      ]
    },
    {
      "cell_type": "code",
      "source": [
        "import re\n",
        "from collections import Counter\n",
        "\n",
        "def parse_log_line(line):\n",
        "    # Regular expression to parse the log line\n",
        "    log_pattern = re.compile(\n",
        "        r'(?P<ip>[\\d\\.]+) - - \\[(?P<date>[^\\]]+)\\] \"(?P<method>[A-Z]+) (?P<url>[^\\s]+) HTTP/[0-9\\.]+\" (?P<status>\\d{3}) (?P<size>\\d+|-)'\n",
        "    )\n",
        "    match = log_pattern.match(line)\n",
        "    if match:\n",
        "        return match.group('ip'), match.group('url'), match.group('status')\n",
        "    return None\n",
        "\n",
        "def analyze_logs(file_path):\n",
        "    ip_counter = Counter()\n",
        "    url_counter = Counter()\n",
        "    status_counter = Counter()\n",
        "\n",
        "    try:\n",
        "        with open(file_path, 'r') as file:\n",
        "            for line in file:\n",
        "                result = parse_log_line(line)\n",
        "                if result:\n",
        "                    ip, url, status = result\n",
        "                    ip_counter[ip] += 1\n",
        "                    url_counter[url] += 1\n",
        "                    status_counter[status] += 1\n",
        "                else:\n",
        "                    print(f\"Could not parse line: {line.strip()}\")\n",
        "    except FileNotFoundError:\n",
        "        print(f\"Error: The file {file_path} was not found.\")\n",
        "    except Exception as e:\n",
        "        print(f\"An error occurred: {e}\")\n",
        "\n",
        "    return ip_counter, url_counter, status_counter\n",
        "\n",
        "def display_results(ip_counter, url_counter, status_counter):\n",
        "    print(\"\\nMost Frequent IP Addresses:\")\n",
        "    for ip, count in ip_counter.most_common(10):\n",
        "        print(f\"{ip}: {count}\")\n",
        "\n",
        "    print(\"\\nMost Accessed URLs:\")\n",
        "    for url, count in url_counter.most_common(10):\n",
        "        print(f\"{url}: {count}\")\n",
        "\n",
        "    print(\"\\nResponse Codes:\")\n",
        "    for status, count in status_counter.most_common():\n",
        "        print(f\"{status}: {count}\")\n",
        "\n",
        "if __name__ == \"__main__\":\n",
        "    log_file_path = 'access.log'  # Path to the log file\n",
        "    ip_counter, url_counter, status_counter = analyze_logs(log_file_path)\n",
        "    display_results(ip_counter, url_counter, status_counter)"
      ],
      "metadata": {
        "colab": {
          "base_uri": "https://localhost:8080/"
        },
        "id": "mpAwQOFYH3Ji",
        "outputId": "bee64dec-412e-4ef4-c5ab-63d4a2b70f97"
      },
      "execution_count": 12,
      "outputs": [
        {
          "output_type": "stream",
          "name": "stdout",
          "text": [
            "Error: The file access.log was not found.\n",
            "\n",
            "Most Frequent IP Addresses:\n",
            "\n",
            "Most Accessed URLs:\n",
            "\n",
            "Response Codes:\n"
          ]
        }
      ]
    },
    {
      "cell_type": "code",
      "source": [],
      "metadata": {
        "id": "zmDhoi3zIBgx"
      },
      "execution_count": null,
      "outputs": []
    }
  ]
}