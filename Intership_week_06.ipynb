{
  "nbformat": 4,
  "nbformat_minor": 0,
  "metadata": {
    "colab": {
      "provenance": [],
      "authorship_tag": "ABX9TyO++Ik+0PFx0bypxenBykO6",
      "include_colab_link": true
    },
    "kernelspec": {
      "name": "python3",
      "display_name": "Python 3"
    },
    "language_info": {
      "name": "python"
    }
  },
  "cells": [
    {
      "cell_type": "markdown",
      "metadata": {
        "id": "view-in-github",
        "colab_type": "text"
      },
      "source": [
        "<a href=\"https://colab.research.google.com/github/Saimtabbani/Main-flow-tasks/blob/main/Intership_week_06.ipynb\" target=\"_parent\"><img src=\"https://colab.research.google.com/assets/colab-badge.svg\" alt=\"Open In Colab\"/></a>"
      ]
    },
    {
      "cell_type": "code",
      "execution_count": 1,
      "metadata": {
        "colab": {
          "base_uri": "https://localhost:8080/"
        },
        "id": "_kS1a1L0rVi1",
        "outputId": "064c566a-6201-4f2e-e926-bc60d55de553"
      },
      "outputs": [
        {
          "output_type": "stream",
          "name": "stdout",
          "text": [
            "{'hello': 2, 'world!': 1, 'this': 1, 'is': 1, 'a': 1, 'test.': 1, 'again,': 1, 'world.': 1}\n"
          ]
        }
      ],
      "source": [
        "#Task 40  Word Frequency in Text\n",
        "def word_frequency(text):\n",
        "    text = text.lower()\n",
        "    words = text.split()\n",
        "    word_count = {}\n",
        "\n",
        "    for word in words:\n",
        "        if word in word_count:\n",
        "            word_count[word] += 1\n",
        "        else:\n",
        "            word_count[word] = 1\n",
        "    return word_count\n",
        "# Example usage\n",
        "input_text = \"Hello world! This is a test. Hello again, world.\"\n",
        "result = word_frequency(input_text)\n",
        "print(result)"
      ]
    },
    {
      "cell_type": "code",
      "source": [
        "#Task 41. Knapsack Problem (0/1)\n",
        "def knapsack(weights, values, capacity):\n",
        "    n = len(weights)\n",
        "    dp = [[0 for _ in range(capacity + 1)] for _ in range(n + 1)]\n",
        "    for i in range(1, n + 1):\n",
        "        for w in range(1, capacity + 1):\n",
        "            if weights[i - 1] <= w:\n",
        "                dp[i][w] = max(dp[i - 1][w], dp[i - 1][w - weights[i - 1]] + values[i - 1])\n",
        "            else:\n",
        "                dp[i][w] = dp[i - 1][w]\n",
        "    return dp[n][capacity]\n",
        "# Example usage\n",
        "weights = [1, 2, 3]\n",
        "values = [10, 15, 40]\n",
        "capacity = 6\n",
        "max_value = knapsack(weights, values, capacity)\n",
        "print(\"Maximum value that can be carried:\", max_value)"
      ],
      "metadata": {
        "colab": {
          "base_uri": "https://localhost:8080/"
        },
        "id": "M8EL7cYMsR3Y",
        "outputId": "bd4b7ecf-9508-4494-a41a-8c69a18d24a6"
      },
      "execution_count": 2,
      "outputs": [
        {
          "output_type": "stream",
          "name": "stdout",
          "text": [
            "Maximum value that can be carried: 65\n"
          ]
        }
      ]
    },
    {
      "cell_type": "code",
      "source": [
        "#Task 42. Merge Intervals\n",
        "def merge_intervals(intervals):\n",
        "    intervals.sort(key=lambda x: x[0])\n",
        "    merged = []\n",
        "    for interval in intervals:\n",
        "        if not merged or merged[-1][1] < interval[0]:\n",
        "            merged.append(interval)\n",
        "        else:\n",
        "            merged[-1][1] = max(merged[-1][1], interval[1])\n",
        "    return merged\n",
        "# Example usage\n",
        "input_intervals = [[1, 3], [2, 6], [8, 10], [15, 18], [17, 20]]\n",
        "merged_intervals = merge_intervals(input_intervals)\n",
        "print(\"Merged intervals:\", merged_intervals)"
      ],
      "metadata": {
        "colab": {
          "base_uri": "https://localhost:8080/"
        },
        "id": "qFvF8s6Us4Qk",
        "outputId": "2e63b8e8-4a54-4a33-b354-75785313f64e"
      },
      "execution_count": 3,
      "outputs": [
        {
          "output_type": "stream",
          "name": "stdout",
          "text": [
            "Merged intervals: [[1, 6], [8, 10], [15, 20]]\n"
          ]
        }
      ]
    },
    {
      "cell_type": "code",
      "source": [
        "#Task 43  Find the Median of Two Sorted Arrays\n",
        "def find_median_sorted_arrays(nums1, nums2):\n",
        "    if len(nums1) > len(nums2):\n",
        "        nums1, nums2 = nums2, nums1\n",
        "    x, y = len(nums1), len(nums2)\n",
        "    low, high = 0, x\n",
        "\n",
        "    while low <= high:\n",
        "        partitionX = (low + high) // 2\n",
        "        partitionY = (x + y + 1) // 2 - partitionX\n",
        "        maxLeftX = float('-inf') if partitionX == 0 else nums1[partitionX - 1]\n",
        "        minRightX = float('inf') if partitionX == x else nums1[partitionX]\n",
        "\n",
        "        maxLeftY = float('-inf') if partitionY == 0 else nums2[partitionY - 1]\n",
        "        minRightY = float('inf') if partitionY == y else nums2[partitionY]\n",
        "        if maxLeftX <= minRightY and maxLeftY <= minRightX:\n",
        "            if (x + y) % 2 == 0:\n",
        "                return (max(maxLeftX, maxLeftY) + min(minRightX, minRightY)) / 2\n",
        "            else:\n",
        "                return max(maxLeftX, maxLeftY)\n",
        "        elif maxLeftX > minRightY:\n",
        "            high = partitionX - 1\n",
        "        else:\n",
        "            low = partitionX + 1\n",
        "# Example usage\n",
        "nums1 = [1, 3]\n",
        "nums2 = [2]\n",
        "median = find_median_sorted_arrays(nums1, nums2)\n",
        "print(\"Median of the two sorted arrays:\", median)\n",
        "\n",
        "nums1 = [1, 2]\n",
        "nums2 = [3, 4]\n",
        "median = find_median_sorted_arrays(nums1, nums2)\n",
        "print(\"Median of the two sorted arrays:\", median)"
      ],
      "metadata": {
        "colab": {
          "base_uri": "https://localhost:8080/"
        },
        "id": "VECH7BwftTzd",
        "outputId": "9c394ee9-4772-4bd3-cb5b-1d2ba6aa8e78"
      },
      "execution_count": 4,
      "outputs": [
        {
          "output_type": "stream",
          "name": "stdout",
          "text": [
            "Median of the two sorted arrays: 2\n",
            "Median of the two sorted arrays: 2.5\n"
          ]
        }
      ]
    },
    {
      "cell_type": "code",
      "source": [
        "#Task 44 Maximal Rectangle in Binary Matrix\n",
        "def maximal_rectangle(matrix):\n",
        "    if not matrix or not matrix[0]:\n",
        "        return 0\n",
        "    heights = [0] * len(matrix[0])\n",
        "    max_area = 0\n",
        "    for row in matrix:\n",
        "        for i in range(len(row)):\n",
        "            if row[i] == '1':\n",
        "                heights[i] += 1\n",
        "            else:\n",
        "                heights[i] = 0\n",
        "        max_area = max(max_area, largest_rectangle_area(heights))\n",
        "    return max_area\n",
        "\n",
        "def largest_rectangle_area(heights):\n",
        "    stack = []\n",
        "    max_area = 0\n",
        "    heights.append(0)\n",
        "    for i in range(len(heights)):\n",
        "        while stack and heights[stack[-1]] > heights[i]:\n",
        "            h = heights[stack.pop()]\n",
        "            w = i if not stack else i - stack[-1] - 1\n",
        "            max_area = max(max_area, h * w)\n",
        "        stack.append(i)\n",
        "    return max_area\n",
        "# Example usage\n",
        "matrix = [\n",
        "    ['1', '0', '1', '0', '0'],\n",
        "    ['1', '0', '1', '1', '1'],\n",
        "    ['1', '1', '1', '1', '1'],\n",
        "    ['1', '0', '0', '1', '0']\n",
        "]\n",
        "area = maximal_rectangle(matrix)\n",
        "print(\"The area of the largest rectangle formed by 1's is:\", area)"
      ],
      "metadata": {
        "colab": {
          "base_uri": "https://localhost:8080/"
        },
        "id": "d9T57qyftuQB",
        "outputId": "2427f8a0-bbdf-4316-caf3-21d3853396ac"
      },
      "execution_count": 5,
      "outputs": [
        {
          "output_type": "stream",
          "name": "stdout",
          "text": [
            "The area of the largest rectangle formed by 1's is: 6\n"
          ]
        }
      ]
    },
    {
      "cell_type": "code",
      "source": [
        "#Task 45 Largest Sum Contiguous Subarray (Kadane's Algorithm)\n",
        "def max_subarray_sum(nums):\n",
        "    max_current = max_global = nums[0]\n",
        "    for i in range(1, len(nums)):\n",
        "        max_current = max(nums[i], max_current + nums[i])\n",
        "        if max_current > max_global:\n",
        "            max_global = max_current\n",
        "    return max_global\n",
        "\n",
        "# Example usage\n",
        "input_array = [-2, 1, -3, 4, -1, 2, 1, -5, 4]\n",
        "max_sum = max_subarray_sum(input_array)\n",
        "print(\"The largest sum of a contiguous subarray is:\", max_sum)"
      ],
      "metadata": {
        "colab": {
          "base_uri": "https://localhost:8080/"
        },
        "id": "g8hdWiZ2uHYP",
        "outputId": "f2c11399-1f3a-40ef-f5b7-65be9d419d16"
      },
      "execution_count": 6,
      "outputs": [
        {
          "output_type": "stream",
          "name": "stdout",
          "text": [
            "The largest sum of a contiguous subarray is: 6\n"
          ]
        }
      ]
    },
    {
      "cell_type": "code",
      "source": [
        "#Task 46 Word Ladder Problem\n",
        "from collections import deque\n",
        "def word_ladder_length(begin_word, end_word, word_list):\n",
        "    word_set = set(word_list)\n",
        "    if end_word not in word_set:\n",
        "        return 0\n",
        "    queue = deque([(begin_word, 1)])\n",
        "\n",
        "    while queue:\n",
        "        current_word, current_length = queue.popleft()\n",
        "        if current_word == end_word:\n",
        "            return current_length\n",
        "        for i in range(len(current_word)):\n",
        "            for c in 'abcdefghijklmnopqrstuvwxyz':\n",
        "                new_word = current_word[:i] + c + current_word[i+1:]\n",
        "                if new_word in word_set:\n",
        "                    queue.append((new_word, current_length + 1))\n",
        "                    word_set.remove(new_word)\n",
        "    return 0\n",
        "# Example usage\n",
        "begin_word = \"hit\"\n",
        "end_word = \"cog\"\n",
        "word_list = [\"hot\", \"dot\", \"dog\", \"lot\", \"log\", \"cog\"]\n",
        "length = word_ladder_length(begin_word, end_word, word_list)\n",
        "print(\"The length of the shortest transformation sequence is:\", length)"
      ],
      "metadata": {
        "colab": {
          "base_uri": "https://localhost:8080/"
        },
        "id": "LztjE-x3uqDa",
        "outputId": "0c254214-f0df-4fca-e3de-7e4d46cf0b91"
      },
      "execution_count": 7,
      "outputs": [
        {
          "output_type": "stream",
          "name": "stdout",
          "text": [
            "The length of the shortest transformation sequence is: 5\n"
          ]
        }
      ]
    },
    {
      "cell_type": "code",
      "source": [
        "#6. Command-Line RPG Game\n",
        "import json\n",
        "import random\n",
        "\n",
        "class Character:\n",
        "    def __init__(self, name, health, attack, defense):\n",
        "        self.name = name\n",
        "        self.health = health\n",
        "        self.attack = attack\n",
        "        self.defense = defense\n",
        "\n",
        "    def is_alive(self):\n",
        "        return self.health > 0\n",
        "\n",
        "    def take_damage(self, damage):\n",
        "        self.health -= damage\n",
        "        if self.health < 0:\n",
        "            self.health = 0\n",
        "\n",
        "    def attack_enemy(self, enemy):\n",
        "        damage = max(0, self.attack - enemy.defense)\n",
        "        enemy.take_damage(damage)\n",
        "        return damage\n",
        "\n",
        "class Game:\n",
        "    def __init__(self):\n",
        "        self.player = None\n",
        "        self.current_location = \"Town\"\n",
        "        self.locations = {\n",
        "            \"Town\": [\"Forest\", \"Cave\"],\n",
        "            \"Forest\": [\"Town\", \"Cave\"],\n",
        "            \"Cave\": [\"Town\", \"Forest\"]\n",
        "        }\n",
        "        self.enemies = {\n",
        "            \"Forest\": Character(\"Goblin\", 30, 10, 2),\n",
        "            \"Cave\": Character(\"Orc\", 50, 15, 5)\n",
        "        }\n",
        "        self.inventory = []\n",
        "\n",
        "    def create_character(self):\n",
        "        name = input(\"Enter your character's name: \")\n",
        "        self.player = Character(name, 100, 20, 5)\n",
        "        print(f\"{self.player.name} has entered the game!\")\n",
        "\n",
        "    def move(self):\n",
        "        print(f\"You are in {self.current_location}. You can go to: {', '.join(self.locations[self.current_location])}\")\n",
        "        choice = input(\"Where would you like to go? \")\n",
        "        if choice in self.locations[self.current_location]:\n",
        "            self.current_location = choice\n",
        "            print(f\"You moved to {self.current_location}.\")\n",
        "        else:\n",
        "            print(\"You can't go there!\")\n",
        "\n",
        "    def encounter_enemy(self):\n",
        "        if self.current_location in self.enemies:\n",
        "            enemy = self.enemies[self.current_location]\n",
        "            print(f\"A wild {enemy.name} appears!\")\n",
        "            while self.player.is_alive() and enemy.is_alive():\n",
        "                action = input(\"Do you want to (a)ttack or (r)un? \")\n",
        "                if action == 'a':\n",
        "                    damage = self.player.attack_enemy(enemy)\n",
        "                    print(f\"You dealt {damage} damage to the {enemy.name}.\")\n",
        "                    if enemy.is_alive():\n",
        "                        enemy_damage = enemy.attack_enemy(self.player)\n",
        "                        print(f\"The {enemy.name} dealt {enemy_damage} damage to you.\")\n",
        "                elif action == 'r':\n",
        "                    print(\"You ran away!\")\n",
        "                    break\n",
        "                else:\n",
        "                    print(\"Invalid action.\")\n",
        "            if not enemy.is_alive():\n",
        "                print(f\"You defeated the {enemy.name}!\")\n",
        "                self.inventory.append(\"Loot from \" + enemy.name)\n",
        "                print(\"You found loot!\")\n",
        "        else:\n",
        "            print(\"No enemies here.\")\n",
        "\n",
        "    def save_game(self):\n",
        "        game_data = {\n",
        "            \"player\": {\n",
        "                \"name\": self.player.name,\n",
        "                \"health\": self.player.health,\n",
        "                \"attack\": self.player.attack,\n",
        "                \"defense\": self.player.defense\n",
        "            },\n",
        "            \"current_location\": self.current_location,\n",
        "            \"inventory\": self.inventory\n",
        "        }\n",
        "        with open(\"save_game.json\", \"w\") as f:\n",
        "            json.dump(game_data, f)\n",
        "        print(\"Game saved!\")\n",
        "\n",
        "    def load_game(self):\n",
        "        try:\n",
        "            with open(\"save_game.json\", \"r\") as f:\n",
        "                game_data = json.load(f)\n",
        "                self.player = Character(game_data[\"player\"][\"name\"], game_data[\"player\"][\"health\"],\n",
        "                                        game_data[\"player\"][\"attack\"], game_data[\"player\"][\"defense\"])\n",
        "                self.current_location = game_data[\"current_location\"]\n",
        "                self.inventory = game_data[\"inventory\"]\n",
        "            print(\"Game loaded!\")\n",
        "        except FileNotFoundError:\n",
        "            print(\"No saved game found.\")\n",
        "\n",
        "    def play(self):\n",
        "        self.create_character()\n",
        "        while self.player.is_alive():\n",
        "            self.move()\n",
        "            self.encounter_enemy()\n",
        "            if not self.player.is_alive():\n",
        "                print(\"You have been defeated. Game over!\")\n",
        "                break\n",
        "            if input(\"Do you want to save your game? (y/n) \") == 'y':\n",
        "                self.save_game()\n",
        "            if input(\"Do you want to load a saved game? (y/n) \") == 'y':\n",
        "                self.load_game()\n",
        "\n",
        "if __name__ == \"__main__\":\n",
        "    game = Game()\n",
        "    game.play()"
      ],
      "metadata": {
        "colab": {
          "base_uri": "https://localhost:8080/"
        },
        "id": "ie6JaVEvvZga",
        "outputId": "ef5200f4-17f4-4fd1-d88d-3857f94c75fb"
      },
      "execution_count": null,
      "outputs": [
        {
          "output_type": "stream",
          "name": "stdout",
          "text": [
            "Enter your character's name: acid\n",
            "acid has entered the game!\n",
            "You are in Town. You can go to: Forest, Cave\n",
            "Where would you like to go? Forest\n",
            "You moved to Forest.\n",
            "A wild Goblin appears!\n",
            "Do you want to (a)ttack or (r)un? a\n",
            "You dealt 18 damage to the Goblin.\n",
            "The Goblin dealt 5 damage to you.\n",
            "Do you want to (a)ttack or (r)un? r\n",
            "You ran away!\n",
            "Do you want to save your game? (y/n) n\n",
            "Do you want to load a saved game? (y/n) n\n",
            "You are in Forest. You can go to: Town, Cave\n"
          ]
        }
      ]
    },
    {
      "cell_type": "code",
      "source": [],
      "metadata": {
        "id": "atYabEnZv2_I"
      },
      "execution_count": null,
      "outputs": []
    }
  ]
}