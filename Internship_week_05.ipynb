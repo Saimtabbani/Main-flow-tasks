{
  "nbformat": 4,
  "nbformat_minor": 0,
  "metadata": {
    "colab": {
      "provenance": [],
      "authorship_tag": "ABX9TyPIBUTJsEaQN46zOqR3bykM",
      "include_colab_link": true
    },
    "kernelspec": {
      "name": "python3",
      "display_name": "Python 3"
    },
    "language_info": {
      "name": "python"
    }
  },
  "cells": [
    {
      "cell_type": "markdown",
      "metadata": {
        "id": "view-in-github",
        "colab_type": "text"
      },
      "source": [
        "<a href=\"https://colab.research.google.com/github/Saimtabbani/Main-flow-tasks/blob/main/Internship_week_05.ipynb\" target=\"_parent\"><img src=\"https://colab.research.google.com/assets/colab-badge.svg\" alt=\"Open In Colab\"/></a>"
      ]
    },
    {
      "cell_type": "code",
      "execution_count": 2,
      "metadata": {
        "colab": {
          "base_uri": "https://localhost:8080/"
        },
        "id": "Gn3kf5muNFjK",
        "outputId": "ebc051f6-66c8-4d0c-d35a-9eac55e6182f"
      },
      "outputs": [
        {
          "output_type": "stream",
          "name": "stdout",
          "text": [
            "All permutations of the string 'abc':\n",
            "['abc', 'acb', 'bac', 'bca', 'cab', 'cba']\n"
          ]
        }
      ],
      "source": [
        "#Task 33. Find All Permutations of a String\n",
        "import itertools\n",
        "\n",
        "def find_all_permutations(s):\n",
        "    return [''.join(p) for p in itertools.permutations(s)]\n",
        "\n",
        "# Example usage\n",
        "input_string = \"abc\"\n",
        "all_permutations = find_all_permutations(input_string)\n",
        "print(\"All permutations of the string '{}':\".format(input_string))\n",
        "print(all_permutations)"
      ]
    },
    {
      "cell_type": "code",
      "source": [
        "#Task 34. N-th Fibonacci Number (Dynamic Programming)\n",
        "def fibonacci(n):\n",
        "    if n < 0:\n",
        "        raise ValueError(\"Input should be a non-negative integer.\")\n",
        "    elif n == 0:\n",
        "        return 0\n",
        "    elif n == 1:\n",
        "        return 1\n",
        "\n",
        "    fib = [0] * (n + 1)\n",
        "    fib[0] = 0  # Base case: F(0) = 0\n",
        "    fib[1] = 1  # Base case: F(1) = 1\n",
        "\n",
        "    for i in range(2, n + 1):\n",
        "        fib[i] = fib[i - 1] + fib[i - 2]\n",
        "\n",
        "    return fib[n]\n",
        "\n",
        "# Example usage\n",
        "n = 10\n",
        "nth_fibonacci = fibonacci(n)\n",
        "print(f\"The {n}-th Fibonacci number is: {nth_fibonacci}\")"
      ],
      "metadata": {
        "colab": {
          "base_uri": "https://localhost:8080/"
        },
        "id": "uEBwz0QNN_fx",
        "outputId": "d4f35f5a-3569-4a62-cd26-74516e9e7e64"
      },
      "execution_count": 1,
      "outputs": [
        {
          "output_type": "stream",
          "name": "stdout",
          "text": [
            "The 10-th Fibonacci number is: 55\n"
          ]
        }
      ]
    },
    {
      "cell_type": "code",
      "source": [
        "#Task 35. Find Duplicates in a List\n",
        "from collections import Counter\n",
        "\n",
        "def find_duplicates(input_list):\n",
        "    counts = Counter(input_list)\n",
        "    duplicates = [item for item, count in counts.items() if count > 1]\n",
        "    return duplicates\n",
        "\n",
        "# Example usage\n",
        "input_list = [1, 2, 3, 4, 5, 1, 2, 6, 7, 3]\n",
        "duplicates = find_duplicates(input_list)\n",
        "print(\"Duplicate elements in the list:\", duplicates)"
      ],
      "metadata": {
        "colab": {
          "base_uri": "https://localhost:8080/"
        },
        "id": "n9HUFS9XkdOw",
        "outputId": "6016222e-6e52-4fbf-d1c8-83a485d191ea"
      },
      "execution_count": 3,
      "outputs": [
        {
          "output_type": "stream",
          "name": "stdout",
          "text": [
            "Duplicate elements in the list: [1, 2, 3]\n"
          ]
        }
      ]
    },
    {
      "cell_type": "code",
      "source": [
        "#Task 36. Longest Increasing Subsequence (LIS)\n",
        "def longest_increasing_subsequence(arr):\n",
        "    if not arr:\n",
        "        return 0\n",
        "    n = len(arr)\n",
        "    lis = [1] * n\n",
        "    for i in range(1, n):\n",
        "        for j in range(0, i):\n",
        "            if arr[i] > arr[j]:\n",
        "                lis[i] = max(lis[i], lis[j] + 1)\n",
        "    return max(lis)\n",
        "\n",
        "# Example usage\n",
        "input_array = [10, 22, 9, 33, 21, 50, 41, 60, 80]\n",
        "length_of_lis = longest_increasing_subsequence(input_array)\n",
        "print(\"Length of the Longest Increasing Subsequence is:\", length_of_lis)"
      ],
      "metadata": {
        "colab": {
          "base_uri": "https://localhost:8080/"
        },
        "id": "3m-KTVqckvz8",
        "outputId": "c8ef8bfb-8376-4d0e-b1c0-5633b306bf2b"
      },
      "execution_count": 4,
      "outputs": [
        {
          "output_type": "stream",
          "name": "stdout",
          "text": [
            "Length of the Longest Increasing Subsequence is: 6\n"
          ]
        }
      ]
    },
    {
      "cell_type": "code",
      "source": [
        "#Task 37. Find K Largest Elements (using sorting)\n",
        "def find_k_largest_elements(arr, k):\n",
        "    sorted_arr = sorted(arr, reverse=True)\n",
        "    return sorted_arr[:k]\n",
        "\n",
        "# Example usage\n",
        "input_list = [3, 1, 4, 1, 5, 9, 2, 6, 5, 3, 5]\n",
        "k = 3\n",
        "k_largest_elements = find_k_largest_elements(input_list, k)\n",
        "print(f\"The {k} largest elements are: {k_largest_elements}\")"
      ],
      "metadata": {
        "colab": {
          "base_uri": "https://localhost:8080/"
        },
        "id": "YpTC-XYrlVe0",
        "outputId": "80d82698-b9fa-448b-d302-c58dad3df778"
      },
      "execution_count": 5,
      "outputs": [
        {
          "output_type": "stream",
          "name": "stdout",
          "text": [
            "The 3 largest elements are: [9, 6, 5]\n"
          ]
        }
      ]
    },
    {
      "cell_type": "code",
      "source": [
        "#Task 38. Rotate Matrix\n",
        "def rotate_matrix(matrix):\n",
        "    transposed = [[matrix[j][i] for j in range(len(matrix))] for i in range(len(matrix[0]))]\n",
        "    rotated = [row[::-1] for row in transposed]\n",
        "    return rotated\n",
        "\n",
        "# Example usage\n",
        "input_matrix = [\n",
        "    [1, 2, 3],\n",
        "    [4, 5, 6],\n",
        "    [7, 8, 9]\n",
        "]\n",
        "rotated_matrix = rotate_matrix(input_matrix)\n",
        "print(\"Original Matrix:\")\n",
        "for row in input_matrix:\n",
        "    print(row)\n",
        "print(\"\\nRotated Matrix (90 degrees clockwise):\")\n",
        "for row in rotated_matrix:\n",
        "    print(row)"
      ],
      "metadata": {
        "colab": {
          "base_uri": "https://localhost:8080/"
        },
        "id": "R7uSNNG0lv1V",
        "outputId": "22e474db-8488-4faa-9f54-e19c0887c084"
      },
      "execution_count": 7,
      "outputs": [
        {
          "output_type": "stream",
          "name": "stdout",
          "text": [
            "Original Matrix:\n",
            "[1, 2, 3]\n",
            "[4, 5, 6]\n",
            "[7, 8, 9]\n",
            "\n",
            "Rotated Matrix (90 degrees clockwise):\n",
            "[7, 4, 1]\n",
            "[8, 5, 2]\n",
            "[9, 6, 3]\n"
          ]
        }
      ]
    },
    {
      "cell_type": "code",
      "source": [
        "#Task 39. Sudoku Validator\n",
        "def is_valid_sudoku(board):\n",
        "    rows = [set() for _ in range(9)]\n",
        "    cols = [set() for _ in range(9)]\n",
        "    boxes = [set() for _ in range(9)]\n",
        "\n",
        "    for i in range(9):\n",
        "        for j in range(9):\n",
        "            num = board[i][j]\n",
        "            if num != '.':\n",
        "                if num in rows[i]:\n",
        "                    return False\n",
        "                rows[i].add(num)\n",
        "                if num in cols[j]:\n",
        "                    return False\n",
        "                cols[j].add(num)\n",
        "                box_index = (i // 3) * 3 + (j // 3)\n",
        "                if num in boxes[box_index]:\n",
        "                    return False\n",
        "                boxes[box_index].add(num)\n",
        "    return True\n",
        "\n",
        "# Example usage\n",
        "sudoku_board = [\n",
        "    ['5', '3', '.', '.', '7', '.', '.', '.', '.'],\n",
        "    ['6', '.', '.', '1', '9', '5', '.', '.', '.'],\n",
        "    ['.', '9', '8', '.', '.', '.', '.', '6', '.'],\n",
        "    ['8', '.', '.', '.', '6', '.', '.', '.', '3'],\n",
        "    ['4', '.', '.', '8', '.', '3', '.', '.', '1'],\n",
        "    ['7', '.', '.', '.', '2', '.', '.', '.', '6'],\n",
        "    ['.', '6', '.', '.', '.', '.', '2', '8', '.'],\n",
        "    ['.', '.', '.', '4', '1', '9', '.', '.', '5'],\n",
        "    ['.', '.', '.', '.', '8', '.', '.', '7', '9']\n",
        "]\n",
        "is_valid = is_valid_sudoku(sudoku_board)\n",
        "print(\"The Sudoku board is valid:\", is_valid)"
      ],
      "metadata": {
        "colab": {
          "base_uri": "https://localhost:8080/"
        },
        "id": "fnK3C0FkmCTV",
        "outputId": "2397cb92-674a-4cd2-a403-a62c5403a2dd"
      },
      "execution_count": 8,
      "outputs": [
        {
          "output_type": "stream",
          "name": "stdout",
          "text": [
            "The Sudoku board is valid: True\n"
          ]
        }
      ]
    },
    {
      "cell_type": "code",
      "source": [
        "#5. Virtual Stock Market Simulator\n",
        "import random\n",
        "\n",
        "class Stock:\n",
        "    def __init__(self, name):\n",
        "        self.name = name\n",
        "        self.price = random.uniform(1000, 10000)\n",
        "    def update_price(self):\n",
        "        change_percent = random.uniform(-0.05, 0.05)\n",
        "        self.price *= (1 + change_percent)\n",
        "        self.price = round(self.price, 2)\n",
        "\n",
        "class User:\n",
        "    def __init__(self, username):\n",
        "        self.username = username\n",
        "        self.portfolio = {}\n",
        "    def buy_stock(self, stock, quantity):\n",
        "        if stock.name in self.portfolio:\n",
        "            self.portfolio[stock.name] += quantity\n",
        "        else:\n",
        "            self.portfolio[stock.name] = quantity\n",
        "        print(f\"{self.username} bought {quantity} shares of {stock.name} at ₹{stock.price} each.\")\n",
        "    def sell_stock(self, stock, quantity):\n",
        "        if stock.name in self.portfolio and self.portfolio[stock.name] >= quantity:\n",
        "            self.portfolio[stock.name] -= quantity\n",
        "            if self.portfolio[stock.name] == 0:\n",
        "                del self.portfolio[stock.name]\n",
        "            print(f\"{self.username} sold {quantity} shares of {stock.name} at ₹{stock.price} each.\")\n",
        "        else:\n",
        "            print(f\"{self.username} does not have enough shares of {stock.name} to sell.\")\n",
        "    def view_portfolio(self):\n",
        "        print(f\"{self.username}'s Portfolio:\")\n",
        "        for stock, quantity in self.portfolio.items():\n",
        "            print(f\"{stock}: {quantity} shares\")\n",
        "\n",
        "class StockMarket:\n",
        "    def __init__(self):\n",
        "        self.stocks = [Stock(\"RELIANCE\"), Stock(\"TCS\"), Stock(\"INFY\"), Stock(\"HDFC\"), Stock(\"HINDUNILVR\")]\n",
        "    def update_market(self):\n",
        "        for stock in self.stocks:\n",
        "            stock.update_price()\n",
        "    def display_prices(self):\n",
        "        print(\"Current Stock Prices:\")\n",
        "        for stock in self.stocks:\n",
        "            print(f\"{stock.name}: ₹{stock.price}\")\n",
        "\n",
        "# Example usage\n",
        "if __name__ == \"__main__\":\n",
        "    market = StockMarket()\n",
        "    user = User(\"Rahul\")\n",
        "\n",
        "    for _ in range(5):\n",
        "        market.update_market()\n",
        "        market.display_prices()\n",
        "        user.buy_stock(market.stocks[0], 2)\n",
        "        user.sell_stock(market.stocks[1], 1)\n",
        "        user.view_portfolio()\n",
        "        print(\"-\" * 30)"
      ],
      "metadata": {
        "colab": {
          "base_uri": "https://localhost:8080/"
        },
        "id": "HKP_6-m-mlny",
        "outputId": "b88c9446-54c3-4192-b933-d549c46f46d5"
      },
      "execution_count": 11,
      "outputs": [
        {
          "output_type": "stream",
          "name": "stdout",
          "text": [
            "Current Stock Prices:\n",
            "RELIANCE: ₹2312.58\n",
            "TCS: ₹9386.36\n",
            "INFY: ₹7677.76\n",
            "HDFC: ₹7612.55\n",
            "HINDUNILVR: ₹2255.97\n",
            "Rahul bought 2 shares of RELIANCE at ₹2312.58 each.\n",
            "Rahul does not have enough shares of TCS to sell.\n",
            "Rahul's Portfolio:\n",
            "RELIANCE: 2 shares\n",
            "------------------------------\n",
            "Current Stock Prices:\n",
            "RELIANCE: ₹2281.56\n",
            "TCS: ₹9173.64\n",
            "INFY: ₹7431.81\n",
            "HDFC: ₹7876.66\n",
            "HINDUNILVR: ₹2170.79\n",
            "Rahul bought 2 shares of RELIANCE at ₹2281.56 each.\n",
            "Rahul does not have enough shares of TCS to sell.\n",
            "Rahul's Portfolio:\n",
            "RELIANCE: 4 shares\n",
            "------------------------------\n",
            "Current Stock Prices:\n",
            "RELIANCE: ₹2244.67\n",
            "TCS: ₹9472.33\n",
            "INFY: ₹7127.63\n",
            "HDFC: ₹7990.26\n",
            "HINDUNILVR: ₹2276.31\n",
            "Rahul bought 2 shares of RELIANCE at ₹2244.67 each.\n",
            "Rahul does not have enough shares of TCS to sell.\n",
            "Rahul's Portfolio:\n",
            "RELIANCE: 6 shares\n",
            "------------------------------\n",
            "Current Stock Prices:\n",
            "RELIANCE: ₹2222.42\n",
            "TCS: ₹9604.01\n",
            "INFY: ₹7354.78\n",
            "HDFC: ₹7985.48\n",
            "HINDUNILVR: ₹2241.43\n",
            "Rahul bought 2 shares of RELIANCE at ₹2222.42 each.\n",
            "Rahul does not have enough shares of TCS to sell.\n",
            "Rahul's Portfolio:\n",
            "RELIANCE: 8 shares\n",
            "------------------------------\n",
            "Current Stock Prices:\n",
            "RELIANCE: ₹2296.47\n",
            "TCS: ₹9848.71\n",
            "INFY: ₹7204.79\n",
            "HDFC: ₹7905.14\n",
            "HINDUNILVR: ₹2201.52\n",
            "Rahul bought 2 shares of RELIANCE at ₹2296.47 each.\n",
            "Rahul does not have enough shares of TCS to sell.\n",
            "Rahul's Portfolio:\n",
            "RELIANCE: 10 shares\n",
            "------------------------------\n"
          ]
        }
      ]
    },
    {
      "cell_type": "code",
      "source": [],
      "metadata": {
        "id": "suX9W_sKnOCX"
      },
      "execution_count": null,
      "outputs": []
    }
  ]
}