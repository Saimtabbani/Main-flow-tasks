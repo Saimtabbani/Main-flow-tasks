{
  "nbformat": 4,
  "nbformat_minor": 0,
  "metadata": {
    "colab": {
      "provenance": [],
      "authorship_tag": "ABX9TyP1npptFMprQnKuWAd/tHSS",
      "include_colab_link": true
    },
    "kernelspec": {
      "name": "python3",
      "display_name": "Python 3"
    },
    "language_info": {
      "name": "python"
    }
  },
  "cells": [
    {
      "cell_type": "markdown",
      "metadata": {
        "id": "view-in-github",
        "colab_type": "text"
      },
      "source": [
        "<a href=\"https://colab.research.google.com/github/Saimtabbani/Main-flow-tasks/blob/main/Internship_week_08.ipynb\" target=\"_parent\"><img src=\"https://colab.research.google.com/assets/colab-badge.svg\" alt=\"Open In Colab\"/></a>"
      ]
    },
    {
      "cell_type": "code",
      "execution_count": 1,
      "metadata": {
        "colab": {
          "base_uri": "https://localhost:8080/"
        },
        "id": "7ihBdsAInHSF",
        "outputId": "8b18feec-77c9-4abd-dd8c-3241d0c0e029"
      },
      "outputs": [
        {
          "output_type": "stream",
          "name": "stdout",
          "text": [
            "Serialized tree: 1,2,4,None,None,5,None,None,3,None,None,\n",
            "Deserialized tree root value: 1\n"
          ]
        }
      ],
      "source": [
        "#Task 55 Serialize and Deserialize Binary Tree\n",
        "class TreeNode:\n",
        "    def __init__(self, val=0, left=None, right=None):\n",
        "        self.val = val\n",
        "        self.left = left\n",
        "        self.right = right\n",
        "class Codec:\n",
        "    def serialize(self, root):\n",
        "        \"\"\"Encodes a tree to a single string.\"\"\"\n",
        "        def pre_order(node):\n",
        "            if not node:\n",
        "                return \"None,\"\n",
        "            return str(node.val) + \",\" + pre_order(node.left) + pre_order(node.right)\n",
        "        return pre_order(root)\n",
        "    def deserialize(self, data):\n",
        "        \"\"\"Decodes your encoded data to tree.\"\"\"\n",
        "        def build_tree(nodes):\n",
        "            val = next(nodes)\n",
        "            if val == \"None\":\n",
        "                return None\n",
        "            node = TreeNode(int(val))\n",
        "            node.left = build_tree(nodes)\n",
        "            node.right = build_tree(nodes)\n",
        "            return node\n",
        "        node_list = iter(data.split(\",\"))\n",
        "        return build_tree(node_list)\n",
        "# Example usage\n",
        "if __name__ == \"__main__\":\n",
        "    root = TreeNode(1)\n",
        "    root.left = TreeNode(2)\n",
        "    root.right = TreeNode(3)\n",
        "    root.left.left = TreeNode(4)\n",
        "    root.left.right = TreeNode(5)\n",
        "\n",
        "    codec = Codec()\n",
        "    serialized = codec.serialize(root)\n",
        "    print(\"Serialized tree:\", serialized)\n",
        "\n",
        "    deserialized_root = codec.deserialize(serialized)\n",
        "    print(\"Deserialized tree root value:\", deserialized_root.val)"
      ]
    },
    {
      "cell_type": "code",
      "source": [
        "#Task 56 Maximum Flow in a Graph (Ford-Fulkerson)\n",
        "from collections import defaultdict\n",
        "class Graph:\n",
        "    def __init__(self, graph):\n",
        "        self.graph = graph\n",
        "        self.ROW = len(graph)\n",
        "    def BFS(self, s, t, parent):\n",
        "        visited = [False] * (self.ROW)\n",
        "        queue = []\n",
        "        queue.append(s)\n",
        "        visited[s] = True\n",
        "        while queue:\n",
        "            u = queue.pop(0)\n",
        "            for ind, val in enumerate(self.graph[u]):\n",
        "                if not visited[ind] and val > 0:\n",
        "                    queue.append(ind)\n",
        "                    visited[ind] = True\n",
        "                    parent[ind] = u\n",
        "                    if ind == t:\n",
        "                        return True\n",
        "        return False\n",
        "    def FordFulkerson(self, source, sink):\n",
        "        parent = [-1] * (self.ROW)\n",
        "        max_flow = 0\n",
        "        while self.BFS(source, sink, parent):\n",
        "            path_flow = float(\"Inf\")\n",
        "            s = sink\n",
        "            while s != source:\n",
        "                path_flow = min(path_flow, self.graph[parent[s]][s])\n",
        "                s = parent[s]\n",
        "            max_flow += path_flow\n",
        "            v = sink\n",
        "            while v != source:\n",
        "                u = parent[v]\n",
        "                self.graph[u][v] -= path_flow\n",
        "                self.graph[v][u] += path_flow\n",
        "                v = parent[v]\n",
        "        return max_flow\n",
        "# Example usage\n",
        "if __name__ == \"__main__\":\n",
        "    graph = [[0, 16, 13, 0, 0, 0],\n",
        "             [0, 0, 10, 12, 0, 0],\n",
        "             [0, 4, 0, 0, 14, 0],\n",
        "             [0, 0, 9, 0, 0, 20],\n",
        "             [0, 0, 0, 7, 0, 4],\n",
        "             [0, 0, 0, 0, 0, 0]]\n",
        "\n",
        "    g = Graph(graph)\n",
        "    source = 0\n",
        "    sink = 5\n",
        "    print(\"The maximum possible flow is %d\" % g.FordFulkerson(source, sink))"
      ],
      "metadata": {
        "colab": {
          "base_uri": "https://localhost:8080/"
        },
        "id": "A7NvKV5Hnwfw",
        "outputId": "ee818619-ed78-4791-8d44-d793848a777b"
      },
      "execution_count": 2,
      "outputs": [
        {
          "output_type": "stream",
          "name": "stdout",
          "text": [
            "The maximum possible flow is 23\n"
          ]
        }
      ]
    },
    {
      "cell_type": "code",
      "source": [
        "#Task 57 Edit Distance (Levenshtein Distance)\n",
        "def edit_distance(str1, str2):\n",
        "    m = len(str1)\n",
        "    n = len(str2)\n",
        "    dp = [[0] * (n + 1) for _ in range(m + 1)]\n",
        "    for i in range(m + 1):\n",
        "        dp[i][0] = i\n",
        "    for j in range(n + 1):\n",
        "        dp[0][j] = j\n",
        "    for i in range(1, m + 1):\n",
        "        for j in range(1, n + 1):\n",
        "            if str1[i - 1] == str2[j - 1]:\n",
        "                dp[i][j] = dp[i - 1][j - 1]\n",
        "            else:\n",
        "                dp[i][j] = min(\n",
        "                    dp[i - 1][j] + 1,\n",
        "                    dp[i][j - 1] + 1,\n",
        "                    dp[i - 1][j - 1] + 1\n",
        "                )\n",
        "    return dp[m][n]\n",
        "# Example usage\n",
        "if __name__ == \"__main__\":\n",
        "    str1 = \"kitten\"\n",
        "    str2 = \"sitting\"\n",
        "    distance = edit_distance(str1, str2)\n",
        "    print(f\"The minimum edit distance between '{str1}' and '{str2}' is: {distance}\")"
      ],
      "metadata": {
        "colab": {
          "base_uri": "https://localhost:8080/"
        },
        "id": "rGWri7I9odpx",
        "outputId": "e22db225-7778-42ba-e117-4cf0a5a3a9e1"
      },
      "execution_count": 3,
      "outputs": [
        {
          "output_type": "stream",
          "name": "stdout",
          "text": [
            "The minimum edit distance between 'kitten' and 'sitting' is: 3\n"
          ]
        }
      ]
    },
    {
      "cell_type": "code",
      "source": [
        "#Task 58 K-th Smallest Element in a BST\n",
        "class TreeNode:\n",
        "    def __init__(self, val=0, left=None, right=None):\n",
        "        self.val = val\n",
        "        self.left = left\n",
        "        self.right = right\n",
        "\n",
        "class Solution:\n",
        "    def kthSmallest(self, root: TreeNode, k: int) -> int:\n",
        "        self.count = 0\n",
        "        self.result = None\n",
        "        def in_order_traversal(node):\n",
        "            if not node:\n",
        "                return\n",
        "            in_order_traversal(node.left)\n",
        "            self.count += 1\n",
        "            if self.count == k:\n",
        "                self.result = node.val\n",
        "                return\n",
        "            in_order_traversal(node.right)\n",
        "        in_order_traversal(root)\n",
        "        return self.result\n",
        "# Example usage\n",
        "if __name__ == \"__main__\":\n",
        "    root = TreeNode(5)\n",
        "    root.left = TreeNode(3)\n",
        "    root.right = TreeNode(7)\n",
        "    root.left.left = TreeNode(2)\n",
        "    root.left.right = TreeNode(4)\n",
        "    root.right.right = TreeNode(8)\n",
        "    k = 3\n",
        "    solution = Solution()\n",
        "    kth_smallest = solution.kthSmallest(root, k)\n",
        "    print(f\"The {k}-th smallest element in the BST is: {kth_smallest}\")"
      ],
      "metadata": {
        "colab": {
          "base_uri": "https://localhost:8080/"
        },
        "id": "5SP95cWLpG88",
        "outputId": "8994e51b-c5d8-4f5c-ce21-7c32dad17600"
      },
      "execution_count": 4,
      "outputs": [
        {
          "output_type": "stream",
          "name": "stdout",
          "text": [
            "The 3-th smallest element in the BST is: 4\n"
          ]
        }
      ]
    },
    {
      "cell_type": "code",
      "source": [
        "#Task 59 Maximum Subarray Product\n",
        "def max_product_subarray(nums):\n",
        "    if not nums:\n",
        "        return 0\n",
        "    max_product = nums[0]\n",
        "    min_product = nums[0]\n",
        "    result = nums[0]\n",
        "    for i in range(1, len(nums)):\n",
        "        current = nums[i]\n",
        "        if current < 0:\n",
        "            max_product, min_product = min_product, max_product\n",
        "        max_product = max(current, max_product * current)\n",
        "        min_product = min(current, min_product * current)\n",
        "        result = max(result, max_product)\n",
        "    return result\n",
        "# Example usage\n",
        "if __name__ == \"__main__\":\n",
        "    nums = [2, 3, -2, 4]\n",
        "    max_product = max_product_subarray(nums)\n",
        "    print(f\"The maximum product of a contiguous subarray is: {max_product}\")"
      ],
      "metadata": {
        "colab": {
          "base_uri": "https://localhost:8080/"
        },
        "id": "ihOm-EJwpm1i",
        "outputId": "93d8e71b-4bc5-49f0-fbe6-4bf3ef032511"
      },
      "execution_count": 5,
      "outputs": [
        {
          "output_type": "stream",
          "name": "stdout",
          "text": [
            "The maximum product of a contiguous subarray is: 6\n"
          ]
        }
      ]
    },
    {
      "cell_type": "code",
      "source": [
        "#Task 60 Find All Paths in a Graph\n",
        "def find_all_paths(graph, start, end):\n",
        "    def dfs(current_node, path):\n",
        "        path.append(current_node)\n",
        "        if current_node == end:\n",
        "            result.append(path.copy())\n",
        "        else:\n",
        "            for neighbor in graph.get(current_node, []):\n",
        "                dfs(neighbor, path)\n",
        "        path.pop()\n",
        "    result = []\n",
        "    dfs(start, [])\n",
        "    return result\n",
        "# Example usage\n",
        "if __name__ == \"__main__\":\n",
        "    graph = {\n",
        "        'A': ['B', 'C'],\n",
        "        'B': ['D'],\n",
        "        'C': ['D'],\n",
        "        'D': ['E'],\n",
        "        'E': []\n",
        "    }\n",
        "    start_node = 'A'\n",
        "    end_node = 'E'\n",
        "    paths = find_all_paths(graph, start_node, end_node)\n",
        "    print(f\"All paths from {start_node} to {end_node}: {paths}\")"
      ],
      "metadata": {
        "colab": {
          "base_uri": "https://localhost:8080/"
        },
        "id": "H6qkagfhqRqq",
        "outputId": "65ef86ff-df29-4403-d79e-016e31d383d1"
      },
      "execution_count": 6,
      "outputs": [
        {
          "output_type": "stream",
          "name": "stdout",
          "text": [
            "All paths from A to E: [['A', 'B', 'D', 'E'], ['A', 'C', 'D', 'E']]\n"
          ]
        }
      ]
    },
    {
      "cell_type": "code",
      "source": [
        "# 8. Custom Data Serialization Tool\n",
        "class CustomSerializer:\n",
        "    def serialize(self, data):\n",
        "        \"\"\"Convert a Python dictionary to a custom string format.\"\"\"\n",
        "        if isinstance(data, dict):\n",
        "            items = []\n",
        "            for key, value in data.items():\n",
        "                if isinstance(value, dict):\n",
        "                    items.append(f\"{key}={{ {self.serialize(value)} }}\")\n",
        "                else:\n",
        "                    items.append(f\"{key}={value}\")\n",
        "            return \", \".join(items)\n",
        "        return \"\"\n",
        "    def deserialize(self, data):\n",
        "        \"\"\"Convert a custom string format back to a Python dictionary.\"\"\"\n",
        "        data = data.strip()\n",
        "        if data.startswith(\"{\") and data.endswith(\"}\"):\n",
        "            data = data[1:-1].strip()\n",
        "        items = data.split(\", \")\n",
        "        result = {}\n",
        "        for item in items:\n",
        "            key, value = item.split(\"=\", 1)\n",
        "            key = key.strip()\n",
        "            value = value.strip()\n",
        "            if value.startswith(\"{\") and value.endswith(\"}\"):\n",
        "                result[key] = self.deserialize(value)\n",
        "            else:\n",
        "                try:\n",
        "                    result[key] = int(value)\n",
        "                except ValueError:\n",
        "                    result[key] = value\n",
        "        return result\n",
        "    def validate_schema(self, data, schema):\n",
        "        \"\"\"Validate the data against a schema.\"\"\"\n",
        "        for key, expected_type in schema.items():\n",
        "            if key not in data:\n",
        "                return False\n",
        "            if expected_type == dict:\n",
        "                if not isinstance(data[key], dict):\n",
        "                    return False\n",
        "            elif expected_type == int:\n",
        "                if not isinstance(data[key], int):\n",
        "                    return False\n",
        "            elif expected_type == str:\n",
        "                if not isinstance(data[key], str):\n",
        "                    return False\n",
        "        return True\n",
        "# Example usage\n",
        "if __name__ == \"__main__\":\n",
        "    serializer = CustomSerializer()\n",
        "    data = {\n",
        "        \"name\": \"Alice\",\n",
        "        \"age\": 30,\n",
        "        \"address\": {\n",
        "            \"city\": \"Wonderland\",\n",
        "            \"zip\": 12345\n",
        "        }\n",
        "    }\n",
        "    serialized_data = serializer.serialize(data)\n",
        "    print(\"Serialized Data:\", serialized_data)\n",
        "\n",
        "    deserialized_data = serializer.deserialize(serialized_data)\n",
        "    print(\"Deserialized Data:\", deserialized_data)\n",
        "\n",
        "    schema = {\n",
        "        \"name\": str,\n",
        "        \"age\": int,\n",
        "        \"address\": dict\n",
        "    }\n",
        "    is_valid = serializer.validate_schema(deserialized_data, schema)\n",
        "    print(\"Is the deserialized data valid?\", is_valid)"
      ],
      "metadata": {
        "colab": {
          "base_uri": "https://localhost:8080/"
        },
        "id": "N6Bur6J9rA07",
        "outputId": "996cb3b7-77c7-4b75-dd20-79c90487e830"
      },
      "execution_count": 7,
      "outputs": [
        {
          "output_type": "stream",
          "name": "stdout",
          "text": [
            "Serialized Data: name=Alice, age=30, address={ city=Wonderland, zip=12345 }\n",
            "Deserialized Data: {'name': 'Alice', 'age': 30, 'address': '{ city=Wonderland', 'zip': '12345 }'}\n",
            "Is the deserialized data valid? False\n"
          ]
        }
      ]
    },
    {
      "cell_type": "code",
      "source": [],
      "metadata": {
        "id": "ly8G1jNor5Gd"
      },
      "execution_count": null,
      "outputs": []
    }
  ]
}